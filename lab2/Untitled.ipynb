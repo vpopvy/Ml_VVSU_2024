{
 "cells": [
  {
   "cell_type": "code",
   "execution_count": 236,
   "id": "dd4c45ce",
   "metadata": {},
   "outputs": [],
   "source": [
    "import pandas as pd\n",
    "import tensorflow as tf\n",
    "import keras\n",
    "from keras.models import Sequential\n",
    "from keras.layers import Dense\n",
    "from tensorflow.keras.utils import to_categorical\n",
    "from sklearn.preprocessing import LabelEncoder\n",
    "from sklearn.model_selection import train_test_split\n",
    "import numpy as np\n",
    "from sklearn.preprocessing import StandardScaler"
   ]
  },
  {
   "cell_type": "code",
   "execution_count": 237,
   "id": "2fb867cb",
   "metadata": {},
   "outputs": [],
   "source": [
    "data = pd.read_csv('student-mat.csv')"
   ]
  },
  {
   "cell_type": "code",
   "execution_count": 238,
   "id": "1a3369a8",
   "metadata": {},
   "outputs": [
    {
     "data": {
      "text/html": [
       "<div>\n",
       "<style scoped>\n",
       "    .dataframe tbody tr th:only-of-type {\n",
       "        vertical-align: middle;\n",
       "    }\n",
       "\n",
       "    .dataframe tbody tr th {\n",
       "        vertical-align: top;\n",
       "    }\n",
       "\n",
       "    .dataframe thead th {\n",
       "        text-align: right;\n",
       "    }\n",
       "</style>\n",
       "<table border=\"1\" class=\"dataframe\">\n",
       "  <thead>\n",
       "    <tr style=\"text-align: right;\">\n",
       "      <th></th>\n",
       "      <th>school</th>\n",
       "      <th>sex</th>\n",
       "      <th>age</th>\n",
       "      <th>address</th>\n",
       "      <th>famsize</th>\n",
       "      <th>Pstatus</th>\n",
       "      <th>Medu</th>\n",
       "      <th>Fedu</th>\n",
       "      <th>Mjob</th>\n",
       "      <th>Fjob</th>\n",
       "      <th>...</th>\n",
       "      <th>famrel</th>\n",
       "      <th>freetime</th>\n",
       "      <th>goout</th>\n",
       "      <th>Dalc</th>\n",
       "      <th>Walc</th>\n",
       "      <th>health</th>\n",
       "      <th>absences</th>\n",
       "      <th>G1</th>\n",
       "      <th>G2</th>\n",
       "      <th>G3</th>\n",
       "    </tr>\n",
       "  </thead>\n",
       "  <tbody>\n",
       "    <tr>\n",
       "      <th>0</th>\n",
       "      <td>GP</td>\n",
       "      <td>F</td>\n",
       "      <td>18</td>\n",
       "      <td>U</td>\n",
       "      <td>GT3</td>\n",
       "      <td>A</td>\n",
       "      <td>4</td>\n",
       "      <td>4</td>\n",
       "      <td>at_home</td>\n",
       "      <td>teacher</td>\n",
       "      <td>...</td>\n",
       "      <td>4</td>\n",
       "      <td>3</td>\n",
       "      <td>4</td>\n",
       "      <td>1</td>\n",
       "      <td>1</td>\n",
       "      <td>3</td>\n",
       "      <td>6</td>\n",
       "      <td>5</td>\n",
       "      <td>6</td>\n",
       "      <td>6</td>\n",
       "    </tr>\n",
       "    <tr>\n",
       "      <th>1</th>\n",
       "      <td>GP</td>\n",
       "      <td>F</td>\n",
       "      <td>17</td>\n",
       "      <td>U</td>\n",
       "      <td>GT3</td>\n",
       "      <td>T</td>\n",
       "      <td>1</td>\n",
       "      <td>1</td>\n",
       "      <td>at_home</td>\n",
       "      <td>other</td>\n",
       "      <td>...</td>\n",
       "      <td>5</td>\n",
       "      <td>3</td>\n",
       "      <td>3</td>\n",
       "      <td>1</td>\n",
       "      <td>1</td>\n",
       "      <td>3</td>\n",
       "      <td>4</td>\n",
       "      <td>5</td>\n",
       "      <td>5</td>\n",
       "      <td>6</td>\n",
       "    </tr>\n",
       "    <tr>\n",
       "      <th>2</th>\n",
       "      <td>GP</td>\n",
       "      <td>F</td>\n",
       "      <td>15</td>\n",
       "      <td>U</td>\n",
       "      <td>LE3</td>\n",
       "      <td>T</td>\n",
       "      <td>1</td>\n",
       "      <td>1</td>\n",
       "      <td>at_home</td>\n",
       "      <td>other</td>\n",
       "      <td>...</td>\n",
       "      <td>4</td>\n",
       "      <td>3</td>\n",
       "      <td>2</td>\n",
       "      <td>2</td>\n",
       "      <td>3</td>\n",
       "      <td>3</td>\n",
       "      <td>10</td>\n",
       "      <td>7</td>\n",
       "      <td>8</td>\n",
       "      <td>10</td>\n",
       "    </tr>\n",
       "    <tr>\n",
       "      <th>3</th>\n",
       "      <td>GP</td>\n",
       "      <td>F</td>\n",
       "      <td>15</td>\n",
       "      <td>U</td>\n",
       "      <td>GT3</td>\n",
       "      <td>T</td>\n",
       "      <td>4</td>\n",
       "      <td>2</td>\n",
       "      <td>health</td>\n",
       "      <td>services</td>\n",
       "      <td>...</td>\n",
       "      <td>3</td>\n",
       "      <td>2</td>\n",
       "      <td>2</td>\n",
       "      <td>1</td>\n",
       "      <td>1</td>\n",
       "      <td>5</td>\n",
       "      <td>2</td>\n",
       "      <td>15</td>\n",
       "      <td>14</td>\n",
       "      <td>15</td>\n",
       "    </tr>\n",
       "    <tr>\n",
       "      <th>4</th>\n",
       "      <td>GP</td>\n",
       "      <td>F</td>\n",
       "      <td>16</td>\n",
       "      <td>U</td>\n",
       "      <td>GT3</td>\n",
       "      <td>T</td>\n",
       "      <td>3</td>\n",
       "      <td>3</td>\n",
       "      <td>other</td>\n",
       "      <td>other</td>\n",
       "      <td>...</td>\n",
       "      <td>4</td>\n",
       "      <td>3</td>\n",
       "      <td>2</td>\n",
       "      <td>1</td>\n",
       "      <td>2</td>\n",
       "      <td>5</td>\n",
       "      <td>4</td>\n",
       "      <td>6</td>\n",
       "      <td>10</td>\n",
       "      <td>10</td>\n",
       "    </tr>\n",
       "    <tr>\n",
       "      <th>...</th>\n",
       "      <td>...</td>\n",
       "      <td>...</td>\n",
       "      <td>...</td>\n",
       "      <td>...</td>\n",
       "      <td>...</td>\n",
       "      <td>...</td>\n",
       "      <td>...</td>\n",
       "      <td>...</td>\n",
       "      <td>...</td>\n",
       "      <td>...</td>\n",
       "      <td>...</td>\n",
       "      <td>...</td>\n",
       "      <td>...</td>\n",
       "      <td>...</td>\n",
       "      <td>...</td>\n",
       "      <td>...</td>\n",
       "      <td>...</td>\n",
       "      <td>...</td>\n",
       "      <td>...</td>\n",
       "      <td>...</td>\n",
       "      <td>...</td>\n",
       "    </tr>\n",
       "    <tr>\n",
       "      <th>390</th>\n",
       "      <td>MS</td>\n",
       "      <td>M</td>\n",
       "      <td>20</td>\n",
       "      <td>U</td>\n",
       "      <td>LE3</td>\n",
       "      <td>A</td>\n",
       "      <td>2</td>\n",
       "      <td>2</td>\n",
       "      <td>services</td>\n",
       "      <td>services</td>\n",
       "      <td>...</td>\n",
       "      <td>5</td>\n",
       "      <td>5</td>\n",
       "      <td>4</td>\n",
       "      <td>4</td>\n",
       "      <td>5</td>\n",
       "      <td>4</td>\n",
       "      <td>11</td>\n",
       "      <td>9</td>\n",
       "      <td>9</td>\n",
       "      <td>9</td>\n",
       "    </tr>\n",
       "    <tr>\n",
       "      <th>391</th>\n",
       "      <td>MS</td>\n",
       "      <td>M</td>\n",
       "      <td>17</td>\n",
       "      <td>U</td>\n",
       "      <td>LE3</td>\n",
       "      <td>T</td>\n",
       "      <td>3</td>\n",
       "      <td>1</td>\n",
       "      <td>services</td>\n",
       "      <td>services</td>\n",
       "      <td>...</td>\n",
       "      <td>2</td>\n",
       "      <td>4</td>\n",
       "      <td>5</td>\n",
       "      <td>3</td>\n",
       "      <td>4</td>\n",
       "      <td>2</td>\n",
       "      <td>3</td>\n",
       "      <td>14</td>\n",
       "      <td>16</td>\n",
       "      <td>16</td>\n",
       "    </tr>\n",
       "    <tr>\n",
       "      <th>392</th>\n",
       "      <td>MS</td>\n",
       "      <td>M</td>\n",
       "      <td>21</td>\n",
       "      <td>R</td>\n",
       "      <td>GT3</td>\n",
       "      <td>T</td>\n",
       "      <td>1</td>\n",
       "      <td>1</td>\n",
       "      <td>other</td>\n",
       "      <td>other</td>\n",
       "      <td>...</td>\n",
       "      <td>5</td>\n",
       "      <td>5</td>\n",
       "      <td>3</td>\n",
       "      <td>3</td>\n",
       "      <td>3</td>\n",
       "      <td>3</td>\n",
       "      <td>3</td>\n",
       "      <td>10</td>\n",
       "      <td>8</td>\n",
       "      <td>7</td>\n",
       "    </tr>\n",
       "    <tr>\n",
       "      <th>393</th>\n",
       "      <td>MS</td>\n",
       "      <td>M</td>\n",
       "      <td>18</td>\n",
       "      <td>R</td>\n",
       "      <td>LE3</td>\n",
       "      <td>T</td>\n",
       "      <td>3</td>\n",
       "      <td>2</td>\n",
       "      <td>services</td>\n",
       "      <td>other</td>\n",
       "      <td>...</td>\n",
       "      <td>4</td>\n",
       "      <td>4</td>\n",
       "      <td>1</td>\n",
       "      <td>3</td>\n",
       "      <td>4</td>\n",
       "      <td>5</td>\n",
       "      <td>0</td>\n",
       "      <td>11</td>\n",
       "      <td>12</td>\n",
       "      <td>10</td>\n",
       "    </tr>\n",
       "    <tr>\n",
       "      <th>394</th>\n",
       "      <td>MS</td>\n",
       "      <td>M</td>\n",
       "      <td>19</td>\n",
       "      <td>U</td>\n",
       "      <td>LE3</td>\n",
       "      <td>T</td>\n",
       "      <td>1</td>\n",
       "      <td>1</td>\n",
       "      <td>other</td>\n",
       "      <td>at_home</td>\n",
       "      <td>...</td>\n",
       "      <td>3</td>\n",
       "      <td>2</td>\n",
       "      <td>3</td>\n",
       "      <td>3</td>\n",
       "      <td>3</td>\n",
       "      <td>5</td>\n",
       "      <td>5</td>\n",
       "      <td>8</td>\n",
       "      <td>9</td>\n",
       "      <td>9</td>\n",
       "    </tr>\n",
       "  </tbody>\n",
       "</table>\n",
       "<p>395 rows × 33 columns</p>\n",
       "</div>"
      ],
      "text/plain": [
       "    school sex  age address famsize Pstatus  Medu  Fedu      Mjob      Fjob  \\\n",
       "0       GP   F   18       U     GT3       A     4     4   at_home   teacher   \n",
       "1       GP   F   17       U     GT3       T     1     1   at_home     other   \n",
       "2       GP   F   15       U     LE3       T     1     1   at_home     other   \n",
       "3       GP   F   15       U     GT3       T     4     2    health  services   \n",
       "4       GP   F   16       U     GT3       T     3     3     other     other   \n",
       "..     ...  ..  ...     ...     ...     ...   ...   ...       ...       ...   \n",
       "390     MS   M   20       U     LE3       A     2     2  services  services   \n",
       "391     MS   M   17       U     LE3       T     3     1  services  services   \n",
       "392     MS   M   21       R     GT3       T     1     1     other     other   \n",
       "393     MS   M   18       R     LE3       T     3     2  services     other   \n",
       "394     MS   M   19       U     LE3       T     1     1     other   at_home   \n",
       "\n",
       "     ... famrel freetime  goout  Dalc  Walc health absences  G1  G2  G3  \n",
       "0    ...      4        3      4     1     1      3        6   5   6   6  \n",
       "1    ...      5        3      3     1     1      3        4   5   5   6  \n",
       "2    ...      4        3      2     2     3      3       10   7   8  10  \n",
       "3    ...      3        2      2     1     1      5        2  15  14  15  \n",
       "4    ...      4        3      2     1     2      5        4   6  10  10  \n",
       "..   ...    ...      ...    ...   ...   ...    ...      ...  ..  ..  ..  \n",
       "390  ...      5        5      4     4     5      4       11   9   9   9  \n",
       "391  ...      2        4      5     3     4      2        3  14  16  16  \n",
       "392  ...      5        5      3     3     3      3        3  10   8   7  \n",
       "393  ...      4        4      1     3     4      5        0  11  12  10  \n",
       "394  ...      3        2      3     3     3      5        5   8   9   9  \n",
       "\n",
       "[395 rows x 33 columns]"
      ]
     },
     "execution_count": 238,
     "metadata": {},
     "output_type": "execute_result"
    }
   ],
   "source": [
    "data"
   ]
  },
  {
   "cell_type": "code",
   "execution_count": 239,
   "id": "8c6a4dd2",
   "metadata": {},
   "outputs": [
    {
     "name": "stdout",
     "output_type": "stream",
     "text": [
      "5.708860759493671\n"
     ]
    }
   ],
   "source": [
    "print(data[\"absences\"].mean())"
   ]
  },
  {
   "cell_type": "code",
   "execution_count": 240,
   "id": "cc7f916c",
   "metadata": {},
   "outputs": [],
   "source": [
    "data[\"Alc\"] = data['Dalc'] + data['Walc']\n",
    "data[\"Total_grade\"] = data[\"G1\"] + data[\"G2\"] + data[\"G3\"]"
   ]
  },
  {
   "cell_type": "code",
   "execution_count": 241,
   "id": "c4077418",
   "metadata": {},
   "outputs": [],
   "source": [
    "x = data.drop([\"Total_grade\"],axis=1)\n",
    "y = data[\"Total_grade\"]"
   ]
  },
  {
   "cell_type": "code",
   "execution_count": 242,
   "id": "f368b6fc",
   "metadata": {},
   "outputs": [],
   "source": [
    "x['school'] = x['school'].map({'GP': 0, 'MS': 1}).astype(int)\n",
    "x['sex'] = x['sex'].map({'M': 0, 'F': 1}).astype(int)\n",
    "x['address'] = x['address'].map({'R': 0, 'U': 1}).astype(int)\n",
    "x['famsize'] = x['famsize'].map({'LE3': 0, 'GT3': 1}).astype(int)\n",
    "x['Pstatus'] = x['Pstatus'].map({'A': 0, 'T': 1}).astype(int)\n",
    "x['Mjob'] = x['Mjob'].map({'at_home': 0, 'health': 1, 'other': 2, 'services': 3, 'teacher': 4}).astype(int)\n",
    "x['Fjob'] = x['Fjob'].map({'at_home': 0, 'health': 1, 'other': 2, 'services': 3, 'teacher': 4}).astype(int)\n",
    "x['reason'] = x['reason'].map({'course': 0, 'other': 1, 'home': 2, 'reputation': 3}).astype(int)\n",
    "x['guardian'] = x['guardian'].map({'mother': 0, 'father': 1, 'other': 2}).astype(int)\n",
    "x['schoolsup'] = x['schoolsup'].map({'no': 0, 'yes': 1}).astype(int)\n",
    "x['famsup'] = x['famsup'].map({'no': 0, 'yes': 1}).astype(int)\n",
    "x['paid'] = x['paid'].map({'no': 0, 'yes': 1}).astype(int)\n",
    "x['activities'] = x['activities'].map({'no': 0, 'yes': 1}).astype(int)\n",
    "x['nursery'] = x['nursery'].map({'no': 0, 'yes': 1}).astype(int)\n",
    "x['higher'] = x['higher'].map({'no': 0, 'yes': 1}).astype(int)\n",
    "x['internet'] = x['internet'].map({'no': 0, 'yes': 1}).astype(int)\n",
    "x['romantic'] = x['romantic'].map({'no': 0, 'yes': 1}).astype(int)"
   ]
  },
  {
   "cell_type": "code",
   "execution_count": 243,
   "id": "4820c3a2",
   "metadata": {},
   "outputs": [],
   "source": [
    "data = x"
   ]
  },
  {
   "cell_type": "code",
   "execution_count": 244,
   "id": "98ed201b",
   "metadata": {},
   "outputs": [],
   "source": [
    "dummy_df = pd.get_dummies(x[\"Mjob\"],prefix=\"Mjob\")\n",
    "x = pd.concat([x, dummy_df],axis=1)\n",
    "x = x.drop([\"Mjob\"],axis=1)"
   ]
  },
  {
   "cell_type": "code",
   "execution_count": 245,
   "id": "4c4c5168",
   "metadata": {},
   "outputs": [],
   "source": [
    "dummy_df = pd.get_dummies(x[\"Fjob\"],prefix=\"Fjob\")\n",
    "x = pd.concat([x, dummy_df],axis=1)\n",
    "x = x.drop([\"Fjob\"],axis=1)"
   ]
  },
  {
   "cell_type": "code",
   "execution_count": 246,
   "id": "87327836",
   "metadata": {},
   "outputs": [
    {
     "name": "stdout",
     "output_type": "stream",
     "text": [
      "<class 'pandas.core.frame.DataFrame'>\n",
      "RangeIndex: 395 entries, 0 to 394\n",
      "Data columns (total 42 columns):\n",
      " #   Column      Non-Null Count  Dtype\n",
      "---  ------      --------------  -----\n",
      " 0   school      395 non-null    int32\n",
      " 1   sex         395 non-null    int32\n",
      " 2   age         395 non-null    int64\n",
      " 3   address     395 non-null    int32\n",
      " 4   famsize     395 non-null    int32\n",
      " 5   Pstatus     395 non-null    int32\n",
      " 6   Medu        395 non-null    int64\n",
      " 7   Fedu        395 non-null    int64\n",
      " 8   reason      395 non-null    int32\n",
      " 9   guardian    395 non-null    int32\n",
      " 10  traveltime  395 non-null    int64\n",
      " 11  studytime   395 non-null    int64\n",
      " 12  failures    395 non-null    int64\n",
      " 13  schoolsup   395 non-null    int32\n",
      " 14  famsup      395 non-null    int32\n",
      " 15  paid        395 non-null    int32\n",
      " 16  activities  395 non-null    int32\n",
      " 17  nursery     395 non-null    int32\n",
      " 18  higher      395 non-null    int32\n",
      " 19  internet    395 non-null    int32\n",
      " 20  romantic    395 non-null    int32\n",
      " 21  famrel      395 non-null    int64\n",
      " 22  freetime    395 non-null    int64\n",
      " 23  goout       395 non-null    int64\n",
      " 24  Dalc        395 non-null    int64\n",
      " 25  Walc        395 non-null    int64\n",
      " 26  health      395 non-null    int64\n",
      " 27  absences    395 non-null    int64\n",
      " 28  G1          395 non-null    int64\n",
      " 29  G2          395 non-null    int64\n",
      " 30  G3          395 non-null    int64\n",
      " 31  Alc         395 non-null    int64\n",
      " 32  Mjob_0      395 non-null    uint8\n",
      " 33  Mjob_1      395 non-null    uint8\n",
      " 34  Mjob_2      395 non-null    uint8\n",
      " 35  Mjob_3      395 non-null    uint8\n",
      " 36  Mjob_4      395 non-null    uint8\n",
      " 37  Fjob_0      395 non-null    uint8\n",
      " 38  Fjob_1      395 non-null    uint8\n",
      " 39  Fjob_2      395 non-null    uint8\n",
      " 40  Fjob_3      395 non-null    uint8\n",
      " 41  Fjob_4      395 non-null    uint8\n",
      "dtypes: int32(15), int64(17), uint8(10)\n",
      "memory usage: 79.6 KB\n"
     ]
    }
   ],
   "source": [
    "x.info()"
   ]
  },
  {
   "cell_type": "code",
   "execution_count": 247,
   "id": "cbc6beed",
   "metadata": {
    "scrolled": true
   },
   "outputs": [
    {
     "data": {
      "text/plain": [
       "Index(['school', 'sex', 'age', 'address', 'famsize', 'Pstatus', 'Medu', 'Fedu',\n",
       "       'reason', 'guardian', 'traveltime', 'studytime', 'failures',\n",
       "       'schoolsup', 'famsup', 'paid', 'activities', 'nursery', 'higher',\n",
       "       'internet', 'romantic', 'famrel', 'freetime', 'goout', 'Dalc', 'Walc',\n",
       "       'health', 'absences', 'G1', 'G2', 'G3', 'Alc', 'Mjob_0', 'Mjob_1',\n",
       "       'Mjob_2', 'Mjob_3', 'Mjob_4', 'Fjob_0', 'Fjob_1', 'Fjob_2', 'Fjob_3',\n",
       "       'Fjob_4'],\n",
       "      dtype='object')"
      ]
     },
     "execution_count": 247,
     "metadata": {},
     "output_type": "execute_result"
    }
   ],
   "source": [
    "x.columns"
   ]
  },
  {
   "cell_type": "code",
   "execution_count": 248,
   "id": "3c7be099",
   "metadata": {},
   "outputs": [],
   "source": [
    "categ = x[['school', 'sex', 'address', 'famsize', 'Pstatus', 'Medu', 'Fedu','reason', 'guardian', 'traveltime', 'studytime', 'failures','schoolsup', 'famsup', 'paid', 'activities', 'nursery', 'higher','internet', 'romantic', 'famrel', 'freetime', 'goout', 'Dalc', 'Walc','health',  'Mjob_0', 'Mjob_1','Mjob_2', 'Mjob_3', 'Mjob_4', 'Mjob_0', 'Mjob_1', 'Mjob_2', 'Mjob_3','Mjob_4', 'Fjob_0', 'Fjob_1', 'Fjob_2', 'Fjob_3', 'Fjob_4']]"
   ]
  },
  {
   "cell_type": "code",
   "execution_count": 249,
   "id": "0cfeace0",
   "metadata": {},
   "outputs": [],
   "source": [
    "scale_x = x[[\"absences\",\"G1\",\"G2\",\"G3\",\"Alc\"]]"
   ]
  },
  {
   "cell_type": "code",
   "execution_count": 250,
   "id": "f56e1baf",
   "metadata": {},
   "outputs": [],
   "source": [
    "for col in categ.columns:\n",
    "    x[col] = pd.Categorical(x[col])\n",
    "    "
   ]
  },
  {
   "cell_type": "code",
   "execution_count": 251,
   "id": "d1280043",
   "metadata": {},
   "outputs": [
    {
     "data": {
      "text/html": [
       "<div>\n",
       "<style scoped>\n",
       "    .dataframe tbody tr th:only-of-type {\n",
       "        vertical-align: middle;\n",
       "    }\n",
       "\n",
       "    .dataframe tbody tr th {\n",
       "        vertical-align: top;\n",
       "    }\n",
       "\n",
       "    .dataframe thead th {\n",
       "        text-align: right;\n",
       "    }\n",
       "</style>\n",
       "<table border=\"1\" class=\"dataframe\">\n",
       "  <thead>\n",
       "    <tr style=\"text-align: right;\">\n",
       "      <th></th>\n",
       "      <th>absences</th>\n",
       "      <th>G1</th>\n",
       "      <th>G2</th>\n",
       "      <th>G3</th>\n",
       "      <th>Alc</th>\n",
       "    </tr>\n",
       "  </thead>\n",
       "  <tbody>\n",
       "    <tr>\n",
       "      <th>0</th>\n",
       "      <td>6</td>\n",
       "      <td>5</td>\n",
       "      <td>6</td>\n",
       "      <td>6</td>\n",
       "      <td>2</td>\n",
       "    </tr>\n",
       "    <tr>\n",
       "      <th>1</th>\n",
       "      <td>4</td>\n",
       "      <td>5</td>\n",
       "      <td>5</td>\n",
       "      <td>6</td>\n",
       "      <td>2</td>\n",
       "    </tr>\n",
       "    <tr>\n",
       "      <th>2</th>\n",
       "      <td>10</td>\n",
       "      <td>7</td>\n",
       "      <td>8</td>\n",
       "      <td>10</td>\n",
       "      <td>5</td>\n",
       "    </tr>\n",
       "    <tr>\n",
       "      <th>3</th>\n",
       "      <td>2</td>\n",
       "      <td>15</td>\n",
       "      <td>14</td>\n",
       "      <td>15</td>\n",
       "      <td>2</td>\n",
       "    </tr>\n",
       "    <tr>\n",
       "      <th>4</th>\n",
       "      <td>4</td>\n",
       "      <td>6</td>\n",
       "      <td>10</td>\n",
       "      <td>10</td>\n",
       "      <td>3</td>\n",
       "    </tr>\n",
       "    <tr>\n",
       "      <th>...</th>\n",
       "      <td>...</td>\n",
       "      <td>...</td>\n",
       "      <td>...</td>\n",
       "      <td>...</td>\n",
       "      <td>...</td>\n",
       "    </tr>\n",
       "    <tr>\n",
       "      <th>390</th>\n",
       "      <td>11</td>\n",
       "      <td>9</td>\n",
       "      <td>9</td>\n",
       "      <td>9</td>\n",
       "      <td>9</td>\n",
       "    </tr>\n",
       "    <tr>\n",
       "      <th>391</th>\n",
       "      <td>3</td>\n",
       "      <td>14</td>\n",
       "      <td>16</td>\n",
       "      <td>16</td>\n",
       "      <td>7</td>\n",
       "    </tr>\n",
       "    <tr>\n",
       "      <th>392</th>\n",
       "      <td>3</td>\n",
       "      <td>10</td>\n",
       "      <td>8</td>\n",
       "      <td>7</td>\n",
       "      <td>6</td>\n",
       "    </tr>\n",
       "    <tr>\n",
       "      <th>393</th>\n",
       "      <td>0</td>\n",
       "      <td>11</td>\n",
       "      <td>12</td>\n",
       "      <td>10</td>\n",
       "      <td>7</td>\n",
       "    </tr>\n",
       "    <tr>\n",
       "      <th>394</th>\n",
       "      <td>5</td>\n",
       "      <td>8</td>\n",
       "      <td>9</td>\n",
       "      <td>9</td>\n",
       "      <td>6</td>\n",
       "    </tr>\n",
       "  </tbody>\n",
       "</table>\n",
       "<p>395 rows × 5 columns</p>\n",
       "</div>"
      ],
      "text/plain": [
       "     absences  G1  G2  G3  Alc\n",
       "0           6   5   6   6    2\n",
       "1           4   5   5   6    2\n",
       "2          10   7   8  10    5\n",
       "3           2  15  14  15    2\n",
       "4           4   6  10  10    3\n",
       "..        ...  ..  ..  ..  ...\n",
       "390        11   9   9   9    9\n",
       "391         3  14  16  16    7\n",
       "392         3  10   8   7    6\n",
       "393         0  11  12  10    7\n",
       "394         5   8   9   9    6\n",
       "\n",
       "[395 rows x 5 columns]"
      ]
     },
     "execution_count": 251,
     "metadata": {},
     "output_type": "execute_result"
    }
   ],
   "source": [
    "scale_x"
   ]
  },
  {
   "cell_type": "code",
   "execution_count": 252,
   "id": "98a0832d",
   "metadata": {},
   "outputs": [],
   "source": [
    "scaler = StandardScaler()"
   ]
  },
  {
   "cell_type": "code",
   "execution_count": 253,
   "id": "b9bfff7e",
   "metadata": {},
   "outputs": [],
   "source": [
    "for col in scale_x.columns:\n",
    "    x[col] = scaler.fit_transform(scale_x[[col]])"
   ]
  },
  {
   "cell_type": "code",
   "execution_count": 288,
   "id": "79122e62",
   "metadata": {},
   "outputs": [
    {
     "data": {
      "text/plain": [
       "Index(['school', 'sex', 'age', 'address', 'famsize', 'Pstatus', 'Medu', 'Fedu',\n",
       "       'reason', 'guardian', 'traveltime', 'studytime', 'failures',\n",
       "       'schoolsup', 'famsup', 'paid', 'activities', 'nursery', 'higher',\n",
       "       'internet', 'romantic', 'famrel', 'freetime', 'goout', 'Dalc', 'Walc',\n",
       "       'health', 'absences', 'G1', 'G2', 'G3', 'Alc', 'Mjob_0', 'Mjob_1',\n",
       "       'Mjob_2', 'Mjob_3', 'Mjob_4', 'Fjob_0', 'Fjob_1', 'Fjob_2', 'Fjob_3',\n",
       "       'Fjob_4'],\n",
       "      dtype='object')"
      ]
     },
     "execution_count": 288,
     "metadata": {},
     "output_type": "execute_result"
    }
   ],
   "source": [
    "x.columns"
   ]
  },
  {
   "cell_type": "code",
   "execution_count": 255,
   "id": "f1affc29",
   "metadata": {},
   "outputs": [],
   "source": [
    "from sklearn.model_selection import train_test_split\n",
    "X_train_full,X_test,y_train_full,y_test = train_test_split(x,y,test_size=0.2,random_state=0)\n",
    "X_train,X_valid,y_train,y_valid = train_test_split(X_train_full,y_train_full,test_size=0.2,random_state=0)"
   ]
  },
  {
   "cell_type": "code",
   "execution_count": 256,
   "id": "6d788087",
   "metadata": {},
   "outputs": [],
   "source": [
    "model1 = keras.models.Sequential()"
   ]
  },
  {
   "cell_type": "code",
   "execution_count": 257,
   "id": "1cd06199",
   "metadata": {},
   "outputs": [],
   "source": [
    "model1.add(keras.layers.Dense(20,activation='relu',input_shape=X_train.shape[1:])),\n",
    "model1.add(keras.layers.Dense(40,activation='relu'))\n",
    "model1.add(keras.layers.Dense(1,activation='relu'))"
   ]
  },
  {
   "cell_type": "code",
   "execution_count": 258,
   "id": "f2e02d2b",
   "metadata": {},
   "outputs": [],
   "source": [
    "model1.compile(loss=\"mean_squared_error\", optimizer=\"adam\",metrics = ['mse','mae'])"
   ]
  },
  {
   "cell_type": "code",
   "execution_count": 259,
   "id": "276eb035",
   "metadata": {
    "scrolled": true
   },
   "outputs": [
    {
     "name": "stdout",
     "output_type": "stream",
     "text": [
      "Epoch 1/20\n",
      "8/8 [==============================] - 1s 21ms/step - loss: 1000.0251 - mse: 1000.0251 - mae: 29.7571 - val_loss: 985.2939 - val_mse: 985.2939 - val_mae: 29.5586\n",
      "Epoch 2/20\n",
      "8/8 [==============================] - 0s 5ms/step - loss: 894.9467 - mse: 894.9467 - mae: 27.9309 - val_loss: 872.3885 - val_mse: 872.3885 - val_mae: 27.5872\n",
      "Epoch 3/20\n",
      "8/8 [==============================] - 0s 5ms/step - loss: 778.8831 - mse: 778.8831 - mae: 25.7973 - val_loss: 748.9420 - val_mse: 748.9420 - val_mae: 25.2597\n",
      "Epoch 4/20\n",
      "8/8 [==============================] - 0s 5ms/step - loss: 653.3876 - mse: 653.3876 - mae: 23.3223 - val_loss: 613.1259 - val_mse: 613.1259 - val_mae: 22.5044\n",
      "Epoch 5/20\n",
      "8/8 [==============================] - 0s 5ms/step - loss: 522.8334 - mse: 522.8334 - mae: 20.4878 - val_loss: 472.1350 - val_mse: 472.1350 - val_mae: 19.3785\n",
      "Epoch 6/20\n",
      "8/8 [==============================] - 0s 5ms/step - loss: 387.5578 - mse: 387.5578 - mae: 17.1549 - val_loss: 333.7000 - val_mse: 333.7000 - val_mae: 15.9587\n",
      "Epoch 7/20\n",
      "8/8 [==============================] - 0s 5ms/step - loss: 261.6875 - mse: 261.6875 - mae: 13.6719 - val_loss: 216.0832 - val_mse: 216.0832 - val_mae: 12.6104\n",
      "Epoch 8/20\n",
      "8/8 [==============================] - 0s 5ms/step - loss: 169.3790 - mse: 169.3790 - mae: 10.7341 - val_loss: 136.4127 - val_mse: 136.4127 - val_mae: 9.6944\n",
      "Epoch 9/20\n",
      "8/8 [==============================] - 0s 5ms/step - loss: 112.5975 - mse: 112.5975 - mae: 8.6060 - val_loss: 101.6933 - val_mse: 101.6933 - val_mae: 8.0057\n",
      "Epoch 10/20\n",
      "8/8 [==============================] - 0s 5ms/step - loss: 96.4985 - mse: 96.4985 - mae: 7.9557 - val_loss: 93.0930 - val_mse: 93.0930 - val_mae: 7.6673\n",
      "Epoch 11/20\n",
      "8/8 [==============================] - 0s 5ms/step - loss: 94.3925 - mse: 94.3925 - mae: 7.8132 - val_loss: 89.3701 - val_mse: 89.3701 - val_mae: 7.4603\n",
      "Epoch 12/20\n",
      "8/8 [==============================] - 0s 5ms/step - loss: 89.5921 - mse: 89.5921 - mae: 7.6170 - val_loss: 84.3407 - val_mse: 84.3407 - val_mae: 7.2635\n",
      "Epoch 13/20\n",
      "8/8 [==============================] - 0s 5ms/step - loss: 84.1566 - mse: 84.1566 - mae: 7.4056 - val_loss: 80.1556 - val_mse: 80.1556 - val_mae: 7.0745\n",
      "Epoch 14/20\n",
      "8/8 [==============================] - 0s 5ms/step - loss: 79.5745 - mse: 79.5745 - mae: 7.2281 - val_loss: 76.5625 - val_mse: 76.5625 - val_mae: 6.8907\n",
      "Epoch 15/20\n",
      "8/8 [==============================] - 0s 5ms/step - loss: 75.7195 - mse: 75.7195 - mae: 7.0532 - val_loss: 72.7482 - val_mse: 72.7482 - val_mae: 6.6955\n",
      "Epoch 16/20\n",
      "8/8 [==============================] - 0s 5ms/step - loss: 71.9662 - mse: 71.9662 - mae: 6.8747 - val_loss: 68.6149 - val_mse: 68.6149 - val_mae: 6.4858\n",
      "Epoch 17/20\n",
      "8/8 [==============================] - 0s 5ms/step - loss: 68.2503 - mse: 68.2503 - mae: 6.6903 - val_loss: 64.5066 - val_mse: 64.5066 - val_mae: 6.2691\n",
      "Epoch 18/20\n",
      "8/8 [==============================] - 0s 5ms/step - loss: 64.6409 - mse: 64.6409 - mae: 6.5131 - val_loss: 60.8995 - val_mse: 60.8995 - val_mae: 6.0657\n",
      "Epoch 19/20\n",
      "8/8 [==============================] - 0s 5ms/step - loss: 60.9615 - mse: 60.9615 - mae: 6.3225 - val_loss: 56.9871 - val_mse: 56.9871 - val_mae: 5.8421\n",
      "Epoch 20/20\n",
      "8/8 [==============================] - 0s 5ms/step - loss: 57.2639 - mse: 57.2639 - mae: 6.1251 - val_loss: 53.5124 - val_mse: 53.5124 - val_mae: 5.6329\n"
     ]
    }
   ],
   "source": [
    "#обучение модели\n",
    "history = model1.fit(X_train, y_train,epochs=20, validation_data=(X_valid,y_valid),batch_size=32)"
   ]
  },
  {
   "cell_type": "code",
   "execution_count": 260,
   "id": "fea4d72c",
   "metadata": {},
   "outputs": [
    {
     "data": {
      "image/png": "[encoded data removed]",
      "text/plain": [
       "<Figure size 1300x800 with 1 Axes>"
      ]
     },
     "metadata": {},
     "output_type": "display_data"
    }
   ],
   "source": [
    "import matplotlib.pyplot as plt\n",
    "pd.DataFrame(history.history).plot(figsize=(13,8))\n",
    "plt.grid(True)\n",
    "plt.show()"
   ]
  },
  {
   "cell_type": "code",
   "execution_count": 261,
   "id": "9df6f849",
   "metadata": {},
   "outputs": [],
   "source": [
    "model2 = keras.models.Sequential()"
   ]
  },
  {
   "cell_type": "code",
   "execution_count": 262,
   "id": "15e7b51d",
   "metadata": {},
   "outputs": [],
   "source": [
    "model2.add(keras.layers.Dense(1000,activation='relu',input_shape=X_train.shape[1:])),\n",
    "model2.add(keras.layers.Dense(500,activation='relu'))\n",
    "model2.add(keras.layers.Dense(250,activation='relu'))\n",
    "model2.add(keras.layers.Dense(1,activation='relu'))"
   ]
  },
  {
   "cell_type": "code",
   "execution_count": 263,
   "id": "5f67d883",
   "metadata": {},
   "outputs": [],
   "source": [
    "model2.compile(loss=\"mean_squared_error\", optimizer=\"adam\",metrics = ['mse','mae'])"
   ]
  },
  {
   "cell_type": "code",
   "execution_count": 264,
   "id": "661a205a",
   "metadata": {
    "scrolled": true
   },
   "outputs": [
    {
     "name": "stdout",
     "output_type": "stream",
     "text": [
      "Epoch 1/20\n",
      "8/8 [==============================] - 1s 30ms/step - loss: 1134.8730 - mse: 1134.8730 - mae: 31.9286 - val_loss: 1176.8750 - val_mse: 1176.8750 - val_mae: 32.5938\n",
      "Epoch 2/20\n",
      "8/8 [==============================] - 0s 14ms/step - loss: 1134.8730 - mse: 1134.8730 - mae: 31.9286 - val_loss: 1176.8750 - val_mse: 1176.8750 - val_mae: 32.5938\n",
      "Epoch 3/20\n",
      "8/8 [==============================] - 0s 14ms/step - loss: 1134.8730 - mse: 1134.8730 - mae: 31.9286 - val_loss: 1176.8750 - val_mse: 1176.8750 - val_mae: 32.5938\n",
      "Epoch 4/20\n",
      "8/8 [==============================] - 0s 13ms/step - loss: 1134.8730 - mse: 1134.8730 - mae: 31.9286 - val_loss: 1176.8750 - val_mse: 1176.8750 - val_mae: 32.5938\n",
      "Epoch 5/20\n",
      "8/8 [==============================] - 0s 13ms/step - loss: 1134.8730 - mse: 1134.8730 - mae: 31.9286 - val_loss: 1176.8750 - val_mse: 1176.8750 - val_mae: 32.5938\n",
      "Epoch 6/20\n",
      "8/8 [==============================] - 0s 12ms/step - loss: 1134.8730 - mse: 1134.8730 - mae: 31.9286 - val_loss: 1176.8750 - val_mse: 1176.8750 - val_mae: 32.5938\n",
      "Epoch 7/20\n",
      "8/8 [==============================] - 0s 13ms/step - loss: 1134.8730 - mse: 1134.8730 - mae: 31.9286 - val_loss: 1176.8750 - val_mse: 1176.8750 - val_mae: 32.5938\n",
      "Epoch 8/20\n",
      "8/8 [==============================] - 0s 13ms/step - loss: 1134.8730 - mse: 1134.8730 - mae: 31.9286 - val_loss: 1176.8750 - val_mse: 1176.8750 - val_mae: 32.5938\n",
      "Epoch 9/20\n",
      "8/8 [==============================] - 0s 12ms/step - loss: 1134.8730 - mse: 1134.8730 - mae: 31.9286 - val_loss: 1176.8750 - val_mse: 1176.8750 - val_mae: 32.5938\n",
      "Epoch 10/20\n",
      "8/8 [==============================] - 0s 13ms/step - loss: 1134.8730 - mse: 1134.8730 - mae: 31.9286 - val_loss: 1176.8750 - val_mse: 1176.8750 - val_mae: 32.5938\n",
      "Epoch 11/20\n",
      "8/8 [==============================] - 0s 13ms/step - loss: 1134.8730 - mse: 1134.8730 - mae: 31.9286 - val_loss: 1176.8750 - val_mse: 1176.8750 - val_mae: 32.5938\n",
      "Epoch 12/20\n",
      "8/8 [==============================] - 0s 13ms/step - loss: 1134.8730 - mse: 1134.8730 - mae: 31.9286 - val_loss: 1176.8750 - val_mse: 1176.8750 - val_mae: 32.5938\n",
      "Epoch 13/20\n",
      "8/8 [==============================] - 0s 13ms/step - loss: 1134.8730 - mse: 1134.8730 - mae: 31.9286 - val_loss: 1176.8750 - val_mse: 1176.8750 - val_mae: 32.5938\n",
      "Epoch 14/20\n",
      "8/8 [==============================] - 0s 13ms/step - loss: 1134.8730 - mse: 1134.8730 - mae: 31.9286 - val_loss: 1176.8750 - val_mse: 1176.8750 - val_mae: 32.5938\n",
      "Epoch 15/20\n",
      "8/8 [==============================] - 0s 13ms/step - loss: 1134.8730 - mse: 1134.8730 - mae: 31.9286 - val_loss: 1176.8750 - val_mse: 1176.8750 - val_mae: 32.5938\n",
      "Epoch 16/20\n",
      "8/8 [==============================] - 0s 13ms/step - loss: 1134.8730 - mse: 1134.8730 - mae: 31.9286 - val_loss: 1176.8750 - val_mse: 1176.8750 - val_mae: 32.5938\n",
      "Epoch 17/20\n",
      "8/8 [==============================] - 0s 13ms/step - loss: 1134.8730 - mse: 1134.8730 - mae: 31.9286 - val_loss: 1176.8750 - val_mse: 1176.8750 - val_mae: 32.5938\n",
      "Epoch 18/20\n",
      "8/8 [==============================] - 0s 12ms/step - loss: 1134.8730 - mse: 1134.8730 - mae: 31.9286 - val_loss: 1176.8750 - val_mse: 1176.8750 - val_mae: 32.5938\n",
      "Epoch 19/20\n",
      "8/8 [==============================] - 0s 12ms/step - loss: 1134.8730 - mse: 1134.8730 - mae: 31.9286 - val_loss: 1176.8750 - val_mse: 1176.8750 - val_mae: 32.5938\n",
      "Epoch 20/20\n",
      "8/8 [==============================] - 0s 13ms/step - loss: 1134.8730 - mse: 1134.8730 - mae: 31.9286 - val_loss: 1176.8750 - val_mse: 1176.8750 - val_mae: 32.5938\n"
     ]
    }
   ],
   "source": [
    "#обучение модели\n",
    "history = model2.fit(X_train, y_train,epochs=20, validation_data=(X_valid,y_valid),batch_size=32)"
   ]
  },
  {
   "cell_type": "code",
   "execution_count": 265,
   "id": "15385904",
   "metadata": {},
   "outputs": [
    {
     "data": {
      "image/png": "[encoded data removed]",
      "text/plain": [
       "<Figure size 1300x800 with 1 Axes>"
      ]
     },
     "metadata": {},
     "output_type": "display_data"
    }
   ],
   "source": [
    "import matplotlib.pyplot as plt\n",
    "pd.DataFrame(history.history).plot(figsize=(13,8))\n",
    "plt.grid(True)\n",
    "plt.show()"
   ]
  },
  {
   "cell_type": "code",
   "execution_count": 266,
   "id": "5d7001fc",
   "metadata": {},
   "outputs": [],
   "source": [
    "model3 = keras.models.Sequential()"
   ]
  },
  {
   "cell_type": "code",
   "execution_count": 267,
   "id": "8919f0f6",
   "metadata": {},
   "outputs": [],
   "source": [
    "model3.add(keras.layers.Dense(100,activation='relu',input_shape=X_train.shape[1:])),\n",
    "model3.add(keras.layers.Dense(50,activation='relu'))\n",
    "model3.add(keras.layers.Dense(1,activation='relu'))"
   ]
  },
  {
   "cell_type": "code",
   "execution_count": 268,
   "id": "70e786be",
   "metadata": {},
   "outputs": [],
   "source": [
    "model3.compile(loss=\"mean_squared_error\", optimizer=\"adam\",metrics = ['mse','mae'])"
   ]
  },
  {
   "cell_type": "code",
   "execution_count": 269,
   "id": "d4f2ae14",
   "metadata": {},
   "outputs": [
    {
     "name": "stdout",
     "output_type": "stream",
     "text": [
      "Epoch 1/10\n",
      "8/8 [==============================] - 1s 22ms/step - loss: 926.4553 - mse: 926.4553 - mae: 28.4907 - val_loss: 814.3988 - val_mse: 814.3988 - val_mae: 26.4697\n",
      "Epoch 2/10\n",
      "8/8 [==============================] - 0s 5ms/step - loss: 658.3946 - mse: 658.3946 - mae: 23.4773 - val_loss: 543.2852 - val_mse: 543.2852 - val_mae: 20.8974\n",
      "Epoch 3/10\n",
      "8/8 [==============================] - 0s 5ms/step - loss: 406.6582 - mse: 406.6582 - mae: 17.5540 - val_loss: 303.8599 - val_mse: 303.8599 - val_mae: 15.0677\n",
      "Epoch 4/10\n",
      "8/8 [==============================] - 0s 5ms/step - loss: 211.2991 - mse: 211.2991 - mae: 11.9881 - val_loss: 147.2664 - val_mse: 147.2664 - val_mae: 10.0544\n",
      "Epoch 5/10\n",
      "8/8 [==============================] - 0s 5ms/step - loss: 118.1069 - mse: 118.1069 - mae: 8.8167 - val_loss: 109.9423 - val_mse: 109.9423 - val_mae: 8.1500\n",
      "Epoch 6/10\n",
      "8/8 [==============================] - 0s 5ms/step - loss: 108.2023 - mse: 108.2023 - mae: 8.3349 - val_loss: 108.6410 - val_mse: 108.6410 - val_mae: 8.0497\n",
      "Epoch 7/10\n",
      "8/8 [==============================] - 0s 5ms/step - loss: 101.5154 - mse: 101.5154 - mae: 8.0902 - val_loss: 94.6001 - val_mse: 94.6001 - val_mae: 7.4968\n",
      "Epoch 8/10\n",
      "8/8 [==============================] - 0s 5ms/step - loss: 87.4371 - mse: 87.4371 - mae: 7.5043 - val_loss: 88.0162 - val_mse: 88.0162 - val_mae: 7.1758\n",
      "Epoch 9/10\n",
      "8/8 [==============================] - 0s 5ms/step - loss: 80.6181 - mse: 80.6181 - mae: 7.2179 - val_loss: 82.0117 - val_mse: 82.0117 - val_mae: 6.9509\n",
      "Epoch 10/10\n",
      "8/8 [==============================] - 0s 5ms/step - loss: 74.3077 - mse: 74.3077 - mae: 6.9224 - val_loss: 74.0082 - val_mse: 74.0082 - val_mae: 6.5784\n"
     ]
    }
   ],
   "source": [
    "#обучение модели\n",
    "history = model3.fit(X_train, y_train,epochs=10, validation_data=(X_valid,y_valid),batch_size=32)"
   ]
  },
  {
   "cell_type": "code",
   "execution_count": 270,
   "id": "e82dca45",
   "metadata": {},
   "outputs": [
    {
     "data": {
      "image/png": "[encoded data removed]",
      "text/plain": [
       "<Figure size 1300x800 with 1 Axes>"
      ]
     },
     "metadata": {},
     "output_type": "display_data"
    }
   ],
   "source": [
    "import matplotlib.pyplot as plt\n",
    "pd.DataFrame(history.history).plot(figsize=(13,8))\n",
    "plt.grid(True)\n",
    "plt.show()"
   ]
  },
  {
   "cell_type": "code",
   "execution_count": 271,
   "id": "a5e39159",
   "metadata": {
    "scrolled": true
   },
   "outputs": [
    {
     "name": "stdout",
     "output_type": "stream",
     "text": [
      "3/3 [==============================] - 0s 2ms/step - loss: 68.8962 - mse: 68.8962 - mae: 6.8565\n"
     ]
    },
    {
     "data": {
      "text/plain": [
       "[68.8962173461914, 68.8962173461914, 6.856497287750244]"
      ]
     },
     "execution_count": 271,
     "metadata": {},
     "output_type": "execute_result"
    }
   ],
   "source": [
    "#проверка на тестовых данных\n",
    "model1.evaluate(X_test,y_test)"
   ]
  },
  {
   "cell_type": "code",
   "execution_count": 284,
   "id": "e3de3b91",
   "metadata": {},
   "outputs": [
    {
     "data": {
      "text/html": [
       "<div>\n",
       "<style scoped>\n",
       "    .dataframe tbody tr th:only-of-type {\n",
       "        vertical-align: middle;\n",
       "    }\n",
       "\n",
       "    .dataframe tbody tr th {\n",
       "        vertical-align: top;\n",
       "    }\n",
       "\n",
       "    .dataframe thead th {\n",
       "        text-align: right;\n",
       "    }\n",
       "</style>\n",
       "<table border=\"1\" class=\"dataframe\">\n",
       "  <thead>\n",
       "    <tr style=\"text-align: right;\">\n",
       "      <th></th>\n",
       "      <th>school</th>\n",
       "      <th>sex</th>\n",
       "      <th>age</th>\n",
       "      <th>address</th>\n",
       "      <th>famsize</th>\n",
       "      <th>Pstatus</th>\n",
       "      <th>Medu</th>\n",
       "      <th>Fedu</th>\n",
       "      <th>reason</th>\n",
       "      <th>guardian</th>\n",
       "      <th>...</th>\n",
       "      <th>Mjob_0</th>\n",
       "      <th>Mjob_1</th>\n",
       "      <th>Mjob_2</th>\n",
       "      <th>Mjob_3</th>\n",
       "      <th>Mjob_4</th>\n",
       "      <th>Fjob_0</th>\n",
       "      <th>Fjob_1</th>\n",
       "      <th>Fjob_2</th>\n",
       "      <th>Fjob_3</th>\n",
       "      <th>Fjob_4</th>\n",
       "    </tr>\n",
       "  </thead>\n",
       "  <tbody>\n",
       "    <tr>\n",
       "      <th>329</th>\n",
       "      <td>0</td>\n",
       "      <td>1</td>\n",
       "      <td>17</td>\n",
       "      <td>1</td>\n",
       "      <td>1</td>\n",
       "      <td>1</td>\n",
       "      <td>4</td>\n",
       "      <td>4</td>\n",
       "      <td>0</td>\n",
       "      <td>0</td>\n",
       "      <td>...</td>\n",
       "      <td>0</td>\n",
       "      <td>0</td>\n",
       "      <td>0</td>\n",
       "      <td>0</td>\n",
       "      <td>1</td>\n",
       "      <td>0</td>\n",
       "      <td>0</td>\n",
       "      <td>0</td>\n",
       "      <td>0</td>\n",
       "      <td>1</td>\n",
       "    </tr>\n",
       "    <tr>\n",
       "      <th>318</th>\n",
       "      <td>0</td>\n",
       "      <td>1</td>\n",
       "      <td>17</td>\n",
       "      <td>0</td>\n",
       "      <td>1</td>\n",
       "      <td>1</td>\n",
       "      <td>3</td>\n",
       "      <td>4</td>\n",
       "      <td>0</td>\n",
       "      <td>1</td>\n",
       "      <td>...</td>\n",
       "      <td>1</td>\n",
       "      <td>0</td>\n",
       "      <td>0</td>\n",
       "      <td>0</td>\n",
       "      <td>0</td>\n",
       "      <td>0</td>\n",
       "      <td>0</td>\n",
       "      <td>0</td>\n",
       "      <td>1</td>\n",
       "      <td>0</td>\n",
       "    </tr>\n",
       "    <tr>\n",
       "      <th>317</th>\n",
       "      <td>0</td>\n",
       "      <td>1</td>\n",
       "      <td>18</td>\n",
       "      <td>1</td>\n",
       "      <td>1</td>\n",
       "      <td>1</td>\n",
       "      <td>4</td>\n",
       "      <td>3</td>\n",
       "      <td>0</td>\n",
       "      <td>0</td>\n",
       "      <td>...</td>\n",
       "      <td>0</td>\n",
       "      <td>0</td>\n",
       "      <td>1</td>\n",
       "      <td>0</td>\n",
       "      <td>0</td>\n",
       "      <td>0</td>\n",
       "      <td>0</td>\n",
       "      <td>1</td>\n",
       "      <td>0</td>\n",
       "      <td>0</td>\n",
       "    </tr>\n",
       "    <tr>\n",
       "      <th>65</th>\n",
       "      <td>0</td>\n",
       "      <td>1</td>\n",
       "      <td>16</td>\n",
       "      <td>1</td>\n",
       "      <td>0</td>\n",
       "      <td>1</td>\n",
       "      <td>4</td>\n",
       "      <td>3</td>\n",
       "      <td>0</td>\n",
       "      <td>0</td>\n",
       "      <td>...</td>\n",
       "      <td>0</td>\n",
       "      <td>0</td>\n",
       "      <td>0</td>\n",
       "      <td>0</td>\n",
       "      <td>1</td>\n",
       "      <td>0</td>\n",
       "      <td>0</td>\n",
       "      <td>0</td>\n",
       "      <td>1</td>\n",
       "      <td>0</td>\n",
       "    </tr>\n",
       "    <tr>\n",
       "      <th>59</th>\n",
       "      <td>0</td>\n",
       "      <td>1</td>\n",
       "      <td>16</td>\n",
       "      <td>1</td>\n",
       "      <td>1</td>\n",
       "      <td>1</td>\n",
       "      <td>4</td>\n",
       "      <td>2</td>\n",
       "      <td>0</td>\n",
       "      <td>0</td>\n",
       "      <td>...</td>\n",
       "      <td>0</td>\n",
       "      <td>0</td>\n",
       "      <td>0</td>\n",
       "      <td>1</td>\n",
       "      <td>0</td>\n",
       "      <td>0</td>\n",
       "      <td>0</td>\n",
       "      <td>1</td>\n",
       "      <td>0</td>\n",
       "      <td>0</td>\n",
       "    </tr>\n",
       "    <tr>\n",
       "      <th>...</th>\n",
       "      <td>...</td>\n",
       "      <td>...</td>\n",
       "      <td>...</td>\n",
       "      <td>...</td>\n",
       "      <td>...</td>\n",
       "      <td>...</td>\n",
       "      <td>...</td>\n",
       "      <td>...</td>\n",
       "      <td>...</td>\n",
       "      <td>...</td>\n",
       "      <td>...</td>\n",
       "      <td>...</td>\n",
       "      <td>...</td>\n",
       "      <td>...</td>\n",
       "      <td>...</td>\n",
       "      <td>...</td>\n",
       "      <td>...</td>\n",
       "      <td>...</td>\n",
       "      <td>...</td>\n",
       "      <td>...</td>\n",
       "      <td>...</td>\n",
       "    </tr>\n",
       "    <tr>\n",
       "      <th>276</th>\n",
       "      <td>0</td>\n",
       "      <td>1</td>\n",
       "      <td>18</td>\n",
       "      <td>0</td>\n",
       "      <td>1</td>\n",
       "      <td>0</td>\n",
       "      <td>3</td>\n",
       "      <td>2</td>\n",
       "      <td>2</td>\n",
       "      <td>0</td>\n",
       "      <td>...</td>\n",
       "      <td>0</td>\n",
       "      <td>0</td>\n",
       "      <td>1</td>\n",
       "      <td>0</td>\n",
       "      <td>0</td>\n",
       "      <td>0</td>\n",
       "      <td>0</td>\n",
       "      <td>0</td>\n",
       "      <td>1</td>\n",
       "      <td>0</td>\n",
       "    </tr>\n",
       "    <tr>\n",
       "      <th>140</th>\n",
       "      <td>0</td>\n",
       "      <td>0</td>\n",
       "      <td>15</td>\n",
       "      <td>1</td>\n",
       "      <td>1</td>\n",
       "      <td>1</td>\n",
       "      <td>4</td>\n",
       "      <td>3</td>\n",
       "      <td>0</td>\n",
       "      <td>1</td>\n",
       "      <td>...</td>\n",
       "      <td>0</td>\n",
       "      <td>0</td>\n",
       "      <td>0</td>\n",
       "      <td>0</td>\n",
       "      <td>1</td>\n",
       "      <td>0</td>\n",
       "      <td>0</td>\n",
       "      <td>0</td>\n",
       "      <td>1</td>\n",
       "      <td>0</td>\n",
       "    </tr>\n",
       "    <tr>\n",
       "      <th>142</th>\n",
       "      <td>0</td>\n",
       "      <td>1</td>\n",
       "      <td>15</td>\n",
       "      <td>1</td>\n",
       "      <td>1</td>\n",
       "      <td>1</td>\n",
       "      <td>4</td>\n",
       "      <td>4</td>\n",
       "      <td>0</td>\n",
       "      <td>0</td>\n",
       "      <td>...</td>\n",
       "      <td>0</td>\n",
       "      <td>0</td>\n",
       "      <td>0</td>\n",
       "      <td>0</td>\n",
       "      <td>1</td>\n",
       "      <td>0</td>\n",
       "      <td>0</td>\n",
       "      <td>0</td>\n",
       "      <td>1</td>\n",
       "      <td>0</td>\n",
       "    </tr>\n",
       "    <tr>\n",
       "      <th>306</th>\n",
       "      <td>0</td>\n",
       "      <td>0</td>\n",
       "      <td>20</td>\n",
       "      <td>1</td>\n",
       "      <td>1</td>\n",
       "      <td>0</td>\n",
       "      <td>3</td>\n",
       "      <td>2</td>\n",
       "      <td>0</td>\n",
       "      <td>2</td>\n",
       "      <td>...</td>\n",
       "      <td>0</td>\n",
       "      <td>0</td>\n",
       "      <td>0</td>\n",
       "      <td>1</td>\n",
       "      <td>0</td>\n",
       "      <td>0</td>\n",
       "      <td>0</td>\n",
       "      <td>1</td>\n",
       "      <td>0</td>\n",
       "      <td>0</td>\n",
       "    </tr>\n",
       "    <tr>\n",
       "      <th>146</th>\n",
       "      <td>0</td>\n",
       "      <td>1</td>\n",
       "      <td>15</td>\n",
       "      <td>1</td>\n",
       "      <td>1</td>\n",
       "      <td>1</td>\n",
       "      <td>3</td>\n",
       "      <td>2</td>\n",
       "      <td>2</td>\n",
       "      <td>1</td>\n",
       "      <td>...</td>\n",
       "      <td>0</td>\n",
       "      <td>1</td>\n",
       "      <td>0</td>\n",
       "      <td>0</td>\n",
       "      <td>0</td>\n",
       "      <td>0</td>\n",
       "      <td>0</td>\n",
       "      <td>0</td>\n",
       "      <td>1</td>\n",
       "      <td>0</td>\n",
       "    </tr>\n",
       "  </tbody>\n",
       "</table>\n",
       "<p>79 rows × 42 columns</p>\n",
       "</div>"
      ],
      "text/plain": [
       "    school sex  age address famsize Pstatus Medu Fedu reason guardian  ...  \\\n",
       "329      0   1   17       1       1       1    4    4      0        0  ...   \n",
       "318      0   1   17       0       1       1    3    4      0        1  ...   \n",
       "317      0   1   18       1       1       1    4    3      0        0  ...   \n",
       "65       0   1   16       1       0       1    4    3      0        0  ...   \n",
       "59       0   1   16       1       1       1    4    2      0        0  ...   \n",
       "..     ...  ..  ...     ...     ...     ...  ...  ...    ...      ...  ...   \n",
       "276      0   1   18       0       1       0    3    2      2        0  ...   \n",
       "140      0   0   15       1       1       1    4    3      0        1  ...   \n",
       "142      0   1   15       1       1       1    4    4      0        0  ...   \n",
       "306      0   0   20       1       1       0    3    2      0        2  ...   \n",
       "146      0   1   15       1       1       1    3    2      2        1  ...   \n",
       "\n",
       "    Mjob_0 Mjob_1 Mjob_2 Mjob_3 Mjob_4 Fjob_0 Fjob_1 Fjob_2 Fjob_3 Fjob_4  \n",
       "329      0      0      0      0      1      0      0      0      0      1  \n",
       "318      1      0      0      0      0      0      0      0      1      0  \n",
       "317      0      0      1      0      0      0      0      1      0      0  \n",
       "65       0      0      0      0      1      0      0      0      1      0  \n",
       "59       0      0      0      1      0      0      0      1      0      0  \n",
       "..     ...    ...    ...    ...    ...    ...    ...    ...    ...    ...  \n",
       "276      0      0      1      0      0      0      0      0      1      0  \n",
       "140      0      0      0      0      1      0      0      0      1      0  \n",
       "142      0      0      0      0      1      0      0      0      1      0  \n",
       "306      0      0      0      1      0      0      0      1      0      0  \n",
       "146      0      1      0      0      0      0      0      0      1      0  \n",
       "\n",
       "[79 rows x 42 columns]"
      ]
     },
     "execution_count": 284,
     "metadata": {},
     "output_type": "execute_result"
    }
   ],
   "source": [
    "X_test"
   ]
  },
  {
   "cell_type": "code",
   "execution_count": 272,
   "id": "4d047f47",
   "metadata": {},
   "outputs": [
    {
     "name": "stdout",
     "output_type": "stream",
     "text": [
      "3/3 [==============================] - 0s 2ms/step\n"
     ]
    },
    {
     "data": {
      "text/plain": [
       "array([[36.384705],\n",
       "       [36.23807 ],\n",
       "       [32.19435 ],\n",
       "       [38.994446],\n",
       "       [35.21386 ],\n",
       "       [34.918427],\n",
       "       [33.64659 ],\n",
       "       [31.250875],\n",
       "       [28.356428],\n",
       "       [39.791306]], dtype=float32)"
      ]
     },
     "execution_count": 272,
     "metadata": {},
     "output_type": "execute_result"
    }
   ],
   "source": [
    "#предсказание\n",
    "y_pred = model1.predict(X_test)\n",
    "y_pred[:10]"
   ]
  },
  {
   "cell_type": "code",
   "execution_count": 273,
   "id": "5d455072",
   "metadata": {},
   "outputs": [
    {
     "data": {
      "application/vnd.plotly.v1+json": {
       "config": {
        "plotlyServerURL": "https://plot.ly"
       },
       "data": [
        {
         "mode": "lines",
         "name": "истинные",
         "type": "scatter",
         "x": [
          0,
          1.6122448979591837,
          3.2244897959183674,
          4.836734693877551,
          6.448979591836735,
          8.061224489795919,
          9.673469387755102,
          11.285714285714286,
          12.89795918367347,
          14.510204081632653,
          16.122448979591837,
          17.73469387755102,
          19.346938775510203,
          20.959183673469386,
          22.571428571428573,
          24.183673469387756,
          25.79591836734694,
          27.408163265306122,
          29.020408163265305,
          30.63265306122449,
          32.244897959183675,
          33.857142857142854,
          35.46938775510204,
          37.08163265306123,
          38.69387755102041,
          40.30612244897959,
          41.91836734693877,
          43.53061224489796,
          45.142857142857146,
          46.755102040816325,
          48.36734693877551,
          49.97959183673469,
          51.59183673469388,
          53.204081632653065,
          54.816326530612244,
          56.42857142857143,
          58.04081632653061,
          59.6530612244898,
          61.26530612244898,
          62.87755102040816,
          64.48979591836735,
          66.10204081632654,
          67.71428571428571,
          69.3265306122449,
          70.93877551020408,
          72.55102040816327,
          74.16326530612245,
          75.77551020408163,
          77.38775510204081,
          79
         ],
         "y": [
          42,
          32,
          28,
          46,
          47,
          37,
          39,
          32,
          26,
          46,
          26,
          34,
          32,
          23,
          44,
          42,
          35,
          19,
          29,
          45,
          13,
          11,
          22,
          44,
          36,
          46,
          29,
          56,
          11,
          37,
          5,
          26,
          25,
          16,
          40,
          32,
          36,
          53,
          25,
          35,
          16,
          54,
          25,
          24,
          31,
          5,
          36,
          11,
          37,
          20,
          30,
          52,
          32,
          27,
          35,
          22,
          29,
          38,
          43,
          41,
          40,
          43,
          42,
          47,
          19,
          45,
          55,
          39,
          17,
          28,
          25,
          42,
          19,
          11,
          28,
          16,
          31,
          53,
          13
         ]
        },
        {
         "mode": "lines+markers",
         "name": "предсказанные",
         "type": "scatter",
         "x": [
          0,
          1.6122448979591837,
          3.2244897959183674,
          4.836734693877551,
          6.448979591836735,
          8.061224489795919,
          9.673469387755102,
          11.285714285714286,
          12.89795918367347,
          14.510204081632653,
          16.122448979591837,
          17.73469387755102,
          19.346938775510203,
          20.959183673469386,
          22.571428571428573,
          24.183673469387756,
          25.79591836734694,
          27.408163265306122,
          29.020408163265305,
          30.63265306122449,
          32.244897959183675,
          33.857142857142854,
          35.46938775510204,
          37.08163265306123,
          38.69387755102041,
          40.30612244897959,
          41.91836734693877,
          43.53061224489796,
          45.142857142857146,
          46.755102040816325,
          48.36734693877551,
          49.97959183673469,
          51.59183673469388,
          53.204081632653065,
          54.816326530612244,
          56.42857142857143,
          58.04081632653061,
          59.6530612244898,
          61.26530612244898,
          62.87755102040816,
          64.48979591836735,
          66.10204081632654,
          67.71428571428571,
          69.3265306122449,
          70.93877551020408,
          72.55102040816327,
          74.16326530612245,
          75.77551020408163,
          77.38775510204081,
          79
         ],
         "y": [
          36.38470458984375,
          36.23807144165039,
          32.19435119628906,
          38.99444580078125,
          35.21385955810547,
          34.918426513671875,
          33.64659118652344,
          31.25087547302246,
          28.356428146362305,
          39.79130554199219,
          29.821094512939453,
          31.991168975830078,
          30.078330993652344,
          25.753419876098633,
          40.328468322753906,
          32.86983871459961,
          32.796669006347656,
          30.75333595275879,
          35.983028411865234,
          36.13933181762695,
          25.614356994628906,
          25.69167137145996,
          29.064571380615234,
          34.660919189453125,
          35.106685638427734,
          34.648921966552734,
          31.545188903808594,
          34.16905212402344,
          22.084535598754883,
          29.87848472595215,
          22.55328369140625,
          26.893810272216797,
          34.217811584472656,
          30.524662017822266,
          39.09613037109375,
          36.91936111450195,
          33.47311782836914,
          41.42483139038086,
          25.418872833251953,
          31.988346099853516,
          25.413650512695312,
          38.629974365234375,
          31.39142608642578,
          27.479110717773438,
          33.96338653564453,
          22.934040069580078,
          31.939363479614258,
          22.893245697021484,
          32.03374099731445,
          30.158414840698242,
          33.97185516357422,
          39.495155334472656,
          31.200965881347656,
          29.049495697021484,
          28.341678619384766,
          23.531982421875,
          36.41359329223633,
          36.790504455566406,
          33.61030578613281,
          34.42179870605469,
          39.77388000488281,
          37.35993957519531,
          36.963356018066406,
          33.61262512207031,
          26.944168090820312,
          35.07637023925781,
          43.517574310302734,
          37.58498764038086,
          27.31801414489746,
          34.075565338134766,
          27.273632049560547,
          32.111976623535156,
          30.35698890686035,
          19.507356643676758,
          24.0943603515625,
          22.610328674316406,
          27.672679901123047,
          42.411888122558594,
          21.242809295654297
         ]
        }
       ],
       "layout": {
        "template": {
         "data": {
          "bar": [
           {
            "error_x": {
             "color": "#2a3f5f"
            },
            "error_y": {
             "color": "#2a3f5f"
            },
            "marker": {
             "line": {
              "color": "#E5ECF6",
              "width": 0.5
             },
             "pattern": {
              "fillmode": "overlay",
              "size": 10,
              "solidity": 0.2
             }
            },
            "type": "bar"
           }
          ],
          "barpolar": [
           {
            "marker": {
             "line": {
              "color": "#E5ECF6",
              "width": 0.5
             },
             "pattern": {
              "fillmode": "overlay",
              "size": 10,
              "solidity": 0.2
             }
            },
            "type": "barpolar"
           }
          ],
          "carpet": [
           {
            "aaxis": {
             "endlinecolor": "#2a3f5f",
             "gridcolor": "white",
             "linecolor": "white",
             "minorgridcolor": "white",
             "startlinecolor": "#2a3f5f"
            },
            "baxis": {
             "endlinecolor": "#2a3f5f",
             "gridcolor": "white",
             "linecolor": "white",
             "minorgridcolor": "white",
             "startlinecolor": "#2a3f5f"
            },
            "type": "carpet"
           }
          ],
          "choropleth": [
           {
            "colorbar": {
             "outlinewidth": 0,
             "ticks": ""
            },
            "type": "choropleth"
           }
          ],
          "contour": [
           {
            "colorbar": {
             "outlinewidth": 0,
             "ticks": ""
            },
            "colorscale": [
             [
              0,
              "#0d0887"
             ],
             [
              0.1111111111111111,
              "#46039f"
             ],
             [
              0.2222222222222222,
              "#7201a8"
             ],
             [
              0.3333333333333333,
              "#9c179e"
             ],
             [
              0.4444444444444444,
              "#bd3786"
             ],
             [
              0.5555555555555556,
              "#d8576b"
             ],
             [
              0.6666666666666666,
              "#ed7953"
             ],
             [
              0.7777777777777778,
              "#fb9f3a"
             ],
             [
              0.8888888888888888,
              "#fdca26"
             ],
             [
              1,
              "#f0f921"
             ]
            ],
            "type": "contour"
           }
          ],
          "contourcarpet": [
           {
            "colorbar": {
             "outlinewidth": 0,
             "ticks": ""
            },
            "type": "contourcarpet"
           }
          ],
          "heatmap": [
           {
            "colorbar": {
             "outlinewidth": 0,
             "ticks": ""
            },
            "colorscale": [
             [
              0,
              "#0d0887"
             ],
             [
              0.1111111111111111,
              "#46039f"
             ],
             [
              0.2222222222222222,
              "#7201a8"
             ],
             [
              0.3333333333333333,
              "#9c179e"
             ],
             [
              0.4444444444444444,
              "#bd3786"
             ],
             [
              0.5555555555555556,
              "#d8576b"
             ],
             [
              0.6666666666666666,
              "#ed7953"
             ],
             [
              0.7777777777777778,
              "#fb9f3a"
             ],
             [
              0.8888888888888888,
              "#fdca26"
             ],
             [
              1,
              "#f0f921"
             ]
            ],
            "type": "heatmap"
           }
          ],
          "heatmapgl": [
           {
            "colorbar": {
             "outlinewidth": 0,
             "ticks": ""
            },
            "colorscale": [
             [
              0,
              "#0d0887"
             ],
             [
              0.1111111111111111,
              "#46039f"
             ],
             [
              0.2222222222222222,
              "#7201a8"
             ],
             [
              0.3333333333333333,
              "#9c179e"
             ],
             [
              0.4444444444444444,
              "#bd3786"
             ],
             [
              0.5555555555555556,
              "#d8576b"
             ],
             [
              0.6666666666666666,
              "#ed7953"
             ],
             [
              0.7777777777777778,
              "#fb9f3a"
             ],
             [
              0.8888888888888888,
              "#fdca26"
             ],
             [
              1,
              "#f0f921"
             ]
            ],
            "type": "heatmapgl"
           }
          ],
          "histogram": [
           {
            "marker": {
             "pattern": {
              "fillmode": "overlay",
              "size": 10,
              "solidity": 0.2
             }
            },
            "type": "histogram"
           }
          ],
          "histogram2d": [
           {
            "colorbar": {
             "outlinewidth": 0,
             "ticks": ""
            },
            "colorscale": [
             [
              0,
              "#0d0887"
             ],
             [
              0.1111111111111111,
              "#46039f"
             ],
             [
              0.2222222222222222,
              "#7201a8"
             ],
             [
              0.3333333333333333,
              "#9c179e"
             ],
             [
              0.4444444444444444,
              "#bd3786"
             ],
             [
              0.5555555555555556,
              "#d8576b"
             ],
             [
              0.6666666666666666,
              "#ed7953"
             ],
             [
              0.7777777777777778,
              "#fb9f3a"
             ],
             [
              0.8888888888888888,
              "#fdca26"
             ],
             [
              1,
              "#f0f921"
             ]
            ],
            "type": "histogram2d"
           }
          ],
          "histogram2dcontour": [
           {
            "colorbar": {
             "outlinewidth": 0,
             "ticks": ""
            },
            "colorscale": [
             [
              0,
              "#0d0887"
             ],
             [
              0.1111111111111111,
              "#46039f"
             ],
             [
              0.2222222222222222,
              "#7201a8"
             ],
             [
              0.3333333333333333,
              "#9c179e"
             ],
             [
              0.4444444444444444,
              "#bd3786"
             ],
             [
              0.5555555555555556,
              "#d8576b"
             ],
             [
              0.6666666666666666,
              "#ed7953"
             ],
             [
              0.7777777777777778,
              "#fb9f3a"
             ],
             [
              0.8888888888888888,
              "#fdca26"
             ],
             [
              1,
              "#f0f921"
             ]
            ],
            "type": "histogram2dcontour"
           }
          ],
          "mesh3d": [
           {
            "colorbar": {
             "outlinewidth": 0,
             "ticks": ""
            },
            "type": "mesh3d"
           }
          ],
          "parcoords": [
           {
            "line": {
             "colorbar": {
              "outlinewidth": 0,
              "ticks": ""
             }
            },
            "type": "parcoords"
           }
          ],
          "pie": [
           {
            "automargin": true,
            "type": "pie"
           }
          ],
          "scatter": [
           {
            "fillpattern": {
             "fillmode": "overlay",
             "size": 10,
             "solidity": 0.2
            },
            "type": "scatter"
           }
          ],
          "scatter3d": [
           {
            "line": {
             "colorbar": {
              "outlinewidth": 0,
              "ticks": ""
             }
            },
            "marker": {
             "colorbar": {
              "outlinewidth": 0,
              "ticks": ""
             }
            },
            "type": "scatter3d"
           }
          ],
          "scattercarpet": [
           {
            "marker": {
             "colorbar": {
              "outlinewidth": 0,
              "ticks": ""
             }
            },
            "type": "scattercarpet"
           }
          ],
          "scattergeo": [
           {
            "marker": {
             "colorbar": {
              "outlinewidth": 0,
              "ticks": ""
             }
            },
            "type": "scattergeo"
           }
          ],
          "scattergl": [
           {
            "marker": {
             "colorbar": {
              "outlinewidth": 0,
              "ticks": ""
             }
            },
            "type": "scattergl"
           }
          ],
          "scattermapbox": [
           {
            "marker": {
             "colorbar": {
              "outlinewidth": 0,
              "ticks": ""
             }
            },
            "type": "scattermapbox"
           }
          ],
          "scatterpolar": [
           {
            "marker": {
             "colorbar": {
              "outlinewidth": 0,
              "ticks": ""
             }
            },
            "type": "scatterpolar"
           }
          ],
          "scatterpolargl": [
           {
            "marker": {
             "colorbar": {
              "outlinewidth": 0,
              "ticks": ""
             }
            },
            "type": "scatterpolargl"
           }
          ],
          "scatterternary": [
           {
            "marker": {
             "colorbar": {
              "outlinewidth": 0,
              "ticks": ""
             }
            },
            "type": "scatterternary"
           }
          ],
          "surface": [
           {
            "colorbar": {
             "outlinewidth": 0,
             "ticks": ""
            },
            "colorscale": [
             [
              0,
              "#0d0887"
             ],
             [
              0.1111111111111111,
              "#46039f"
             ],
             [
              0.2222222222222222,
              "#7201a8"
             ],
             [
              0.3333333333333333,
              "#9c179e"
             ],
             [
              0.4444444444444444,
              "#bd3786"
             ],
             [
              0.5555555555555556,
              "#d8576b"
             ],
             [
              0.6666666666666666,
              "#ed7953"
             ],
             [
              0.7777777777777778,
              "#fb9f3a"
             ],
             [
              0.8888888888888888,
              "#fdca26"
             ],
             [
              1,
              "#f0f921"
             ]
            ],
            "type": "surface"
           }
          ],
          "table": [
           {
            "cells": {
             "fill": {
              "color": "#EBF0F8"
             },
             "line": {
              "color": "white"
             }
            },
            "header": {
             "fill": {
              "color": "#C8D4E3"
             },
             "line": {
              "color": "white"
             }
            },
            "type": "table"
           }
          ]
         },
         "layout": {
          "annotationdefaults": {
           "arrowcolor": "#2a3f5f",
           "arrowhead": 0,
           "arrowwidth": 1
          },
          "autotypenumbers": "strict",
          "coloraxis": {
           "colorbar": {
            "outlinewidth": 0,
            "ticks": ""
           }
          },
          "colorscale": {
           "diverging": [
            [
             0,
             "#8e0152"
            ],
            [
             0.1,
             "#c51b7d"
            ],
            [
             0.2,
             "#de77ae"
            ],
            [
             0.3,
             "#f1b6da"
            ],
            [
             0.4,
             "#fde0ef"
            ],
            [
             0.5,
             "#f7f7f7"
            ],
            [
             0.6,
             "#e6f5d0"
            ],
            [
             0.7,
             "#b8e186"
            ],
            [
             0.8,
             "#7fbc41"
            ],
            [
             0.9,
             "#4d9221"
            ],
            [
             1,
             "#276419"
            ]
           ],
           "sequential": [
            [
             0,
             "#0d0887"
            ],
            [
             0.1111111111111111,
             "#46039f"
            ],
            [
             0.2222222222222222,
             "#7201a8"
            ],
            [
             0.3333333333333333,
             "#9c179e"
            ],
            [
             0.4444444444444444,
             "#bd3786"
            ],
            [
             0.5555555555555556,
             "#d8576b"
            ],
            [
             0.6666666666666666,
             "#ed7953"
            ],
            [
             0.7777777777777778,
             "#fb9f3a"
            ],
            [
             0.8888888888888888,
             "#fdca26"
            ],
            [
             1,
             "#f0f921"
            ]
           ],
           "sequentialminus": [
            [
             0,
             "#0d0887"
            ],
            [
             0.1111111111111111,
             "#46039f"
            ],
            [
             0.2222222222222222,
             "#7201a8"
            ],
            [
             0.3333333333333333,
             "#9c179e"
            ],
            [
             0.4444444444444444,
             "#bd3786"
            ],
            [
             0.5555555555555556,
             "#d8576b"
            ],
            [
             0.6666666666666666,
             "#ed7953"
            ],
            [
             0.7777777777777778,
             "#fb9f3a"
            ],
            [
             0.8888888888888888,
             "#fdca26"
            ],
            [
             1,
             "#f0f921"
            ]
           ]
          },
          "colorway": [
           "#636efa",
           "#EF553B",
           "#00cc96",
           "#ab63fa",
           "#FFA15A",
           "#19d3f3",
           "#FF6692",
           "#B6E880",
           "#FF97FF",
           "#FECB52"
          ],
          "font": {
           "color": "#2a3f5f"
          },
          "geo": {
           "bgcolor": "white",
           "lakecolor": "white",
           "landcolor": "#E5ECF6",
           "showlakes": true,
           "showland": true,
           "subunitcolor": "white"
          },
          "hoverlabel": {
           "align": "left"
          },
          "hovermode": "closest",
          "mapbox": {
           "style": "light"
          },
          "paper_bgcolor": "white",
          "plot_bgcolor": "#E5ECF6",
          "polar": {
           "angularaxis": {
            "gridcolor": "white",
            "linecolor": "white",
            "ticks": ""
           },
           "bgcolor": "#E5ECF6",
           "radialaxis": {
            "gridcolor": "white",
            "linecolor": "white",
            "ticks": ""
           }
          },
          "scene": {
           "xaxis": {
            "backgroundcolor": "#E5ECF6",
            "gridcolor": "white",
            "gridwidth": 2,
            "linecolor": "white",
            "showbackground": true,
            "ticks": "",
            "zerolinecolor": "white"
           },
           "yaxis": {
            "backgroundcolor": "#E5ECF6",
            "gridcolor": "white",
            "gridwidth": 2,
            "linecolor": "white",
            "showbackground": true,
            "ticks": "",
            "zerolinecolor": "white"
           },
           "zaxis": {
            "backgroundcolor": "#E5ECF6",
            "gridcolor": "white",
            "gridwidth": 2,
            "linecolor": "white",
            "showbackground": true,
            "ticks": "",
            "zerolinecolor": "white"
           }
          },
          "shapedefaults": {
           "line": {
            "color": "#2a3f5f"
           }
          },
          "ternary": {
           "aaxis": {
            "gridcolor": "white",
            "linecolor": "white",
            "ticks": ""
           },
           "baxis": {
            "gridcolor": "white",
            "linecolor": "white",
            "ticks": ""
           },
           "bgcolor": "#E5ECF6",
           "caxis": {
            "gridcolor": "white",
            "linecolor": "white",
            "ticks": ""
           }
          },
          "title": {
           "x": 0.05
          },
          "xaxis": {
           "automargin": true,
           "gridcolor": "white",
           "linecolor": "white",
           "ticks": "",
           "title": {
            "standoff": 15
           },
           "zerolinecolor": "white",
           "zerolinewidth": 2
          },
          "yaxis": {
           "automargin": true,
           "gridcolor": "white",
           "linecolor": "white",
           "ticks": "",
           "title": {
            "standoff": 15
           },
           "zerolinecolor": "white",
           "zerolinewidth": 2
          }
         }
        }
       }
      },
      "text/html": [
       "<div>                            <div id=\"42a5214c-1e11-43ff-bae9-d0e4eb0f020d\" class=\"plotly-graph-div\" style=\"height:525px; width:100%;\"></div>            <script type=\"text/javascript\">                require([\"plotly\"], function(Plotly) {                    window.PLOTLYENV=window.PLOTLYENV || {};                                    if (document.getElementById(\"42a5214c-1e11-43ff-bae9-d0e4eb0f020d\")) {                    Plotly.newPlot(                        \"42a5214c-1e11-43ff-bae9-d0e4eb0f020d\",                        [{\"mode\":\"lines\",\"name\":\"\\u0438\\u0441\\u0442\\u0438\\u043d\\u043d\\u044b\\u0435\",\"x\":[0.0,1.6122448979591837,3.2244897959183674,4.836734693877551,6.448979591836735,8.061224489795919,9.673469387755102,11.285714285714286,12.89795918367347,14.510204081632653,16.122448979591837,17.73469387755102,19.346938775510203,20.959183673469386,22.571428571428573,24.183673469387756,25.79591836734694,27.408163265306122,29.020408163265305,30.63265306122449,32.244897959183675,33.857142857142854,35.46938775510204,37.08163265306123,38.69387755102041,40.30612244897959,41.91836734693877,43.53061224489796,45.142857142857146,46.755102040816325,48.36734693877551,49.97959183673469,51.59183673469388,53.204081632653065,54.816326530612244,56.42857142857143,58.04081632653061,59.6530612244898,61.26530612244898,62.87755102040816,64.48979591836735,66.10204081632654,67.71428571428571,69.3265306122449,70.93877551020408,72.55102040816327,74.16326530612245,75.77551020408163,77.38775510204081,79.0],\"y\":[42,32,28,46,47,37,39,32,26,46,26,34,32,23,44,42,35,19,29,45,13,11,22,44,36,46,29,56,11,37,5,26,25,16,40,32,36,53,25,35,16,54,25,24,31,5,36,11,37,20,30,52,32,27,35,22,29,38,43,41,40,43,42,47,19,45,55,39,17,28,25,42,19,11,28,16,31,53,13],\"type\":\"scatter\"},{\"mode\":\"lines+markers\",\"name\":\"\\u043f\\u0440\\u0435\\u0434\\u0441\\u043a\\u0430\\u0437\\u0430\\u043d\\u043d\\u044b\\u0435\",\"x\":[0.0,1.6122448979591837,3.2244897959183674,4.836734693877551,6.448979591836735,8.061224489795919,9.673469387755102,11.285714285714286,12.89795918367347,14.510204081632653,16.122448979591837,17.73469387755102,19.346938775510203,20.959183673469386,22.571428571428573,24.183673469387756,25.79591836734694,27.408163265306122,29.020408163265305,30.63265306122449,32.244897959183675,33.857142857142854,35.46938775510204,37.08163265306123,38.69387755102041,40.30612244897959,41.91836734693877,43.53061224489796,45.142857142857146,46.755102040816325,48.36734693877551,49.97959183673469,51.59183673469388,53.204081632653065,54.816326530612244,56.42857142857143,58.04081632653061,59.6530612244898,61.26530612244898,62.87755102040816,64.48979591836735,66.10204081632654,67.71428571428571,69.3265306122449,70.93877551020408,72.55102040816327,74.16326530612245,75.77551020408163,77.38775510204081,79.0],\"y\":[36.38470458984375,36.23807144165039,32.19435119628906,38.99444580078125,35.21385955810547,34.918426513671875,33.64659118652344,31.25087547302246,28.356428146362305,39.79130554199219,29.821094512939453,31.991168975830078,30.078330993652344,25.753419876098633,40.328468322753906,32.86983871459961,32.796669006347656,30.75333595275879,35.983028411865234,36.13933181762695,25.614356994628906,25.69167137145996,29.064571380615234,34.660919189453125,35.106685638427734,34.648921966552734,31.545188903808594,34.16905212402344,22.084535598754883,29.87848472595215,22.55328369140625,26.893810272216797,34.217811584472656,30.524662017822266,39.09613037109375,36.91936111450195,33.47311782836914,41.42483139038086,25.418872833251953,31.988346099853516,25.413650512695312,38.629974365234375,31.39142608642578,27.479110717773438,33.96338653564453,22.934040069580078,31.939363479614258,22.893245697021484,32.03374099731445,30.158414840698242,33.97185516357422,39.495155334472656,31.200965881347656,29.049495697021484,28.341678619384766,23.531982421875,36.41359329223633,36.790504455566406,33.61030578613281,34.42179870605469,39.77388000488281,37.35993957519531,36.963356018066406,33.61262512207031,26.944168090820312,35.07637023925781,43.517574310302734,37.58498764038086,27.31801414489746,34.075565338134766,27.273632049560547,32.111976623535156,30.35698890686035,19.507356643676758,24.0943603515625,22.610328674316406,27.672679901123047,42.411888122558594,21.242809295654297],\"type\":\"scatter\"}],                        {\"template\":{\"data\":{\"histogram2dcontour\":[{\"type\":\"histogram2dcontour\",\"colorbar\":{\"outlinewidth\":0,\"ticks\":\"\"},\"colorscale\":[[0.0,\"#0d0887\"],[0.1111111111111111,\"#46039f\"],[0.2222222222222222,\"#7201a8\"],[0.3333333333333333,\"#9c179e\"],[0.4444444444444444,\"#bd3786\"],[0.5555555555555556,\"#d8576b\"],[0.6666666666666666,\"#ed7953\"],[0.7777777777777778,\"#fb9f3a\"],[0.8888888888888888,\"#fdca26\"],[1.0,\"#f0f921\"]]}],\"choropleth\":[{\"type\":\"choropleth\",\"colorbar\":{\"outlinewidth\":0,\"ticks\":\"\"}}],\"histogram2d\":[{\"type\":\"histogram2d\",\"colorbar\":{\"outlinewidth\":0,\"ticks\":\"\"},\"colorscale\":[[0.0,\"#0d0887\"],[0.1111111111111111,\"#46039f\"],[0.2222222222222222,\"#7201a8\"],[0.3333333333333333,\"#9c179e\"],[0.4444444444444444,\"#bd3786\"],[0.5555555555555556,\"#d8576b\"],[0.6666666666666666,\"#ed7953\"],[0.7777777777777778,\"#fb9f3a\"],[0.8888888888888888,\"#fdca26\"],[1.0,\"#f0f921\"]]}],\"heatmap\":[{\"type\":\"heatmap\",\"colorbar\":{\"outlinewidth\":0,\"ticks\":\"\"},\"colorscale\":[[0.0,\"#0d0887\"],[0.1111111111111111,\"#46039f\"],[0.2222222222222222,\"#7201a8\"],[0.3333333333333333,\"#9c179e\"],[0.4444444444444444,\"#bd3786\"],[0.5555555555555556,\"#d8576b\"],[0.6666666666666666,\"#ed7953\"],[0.7777777777777778,\"#fb9f3a\"],[0.8888888888888888,\"#fdca26\"],[1.0,\"#f0f921\"]]}],\"heatmapgl\":[{\"type\":\"heatmapgl\",\"colorbar\":{\"outlinewidth\":0,\"ticks\":\"\"},\"colorscale\":[[0.0,\"#0d0887\"],[0.1111111111111111,\"#46039f\"],[0.2222222222222222,\"#7201a8\"],[0.3333333333333333,\"#9c179e\"],[0.4444444444444444,\"#bd3786\"],[0.5555555555555556,\"#d8576b\"],[0.6666666666666666,\"#ed7953\"],[0.7777777777777778,\"#fb9f3a\"],[0.8888888888888888,\"#fdca26\"],[1.0,\"#f0f921\"]]}],\"contourcarpet\":[{\"type\":\"contourcarpet\",\"colorbar\":{\"outlinewidth\":0,\"ticks\":\"\"}}],\"contour\":[{\"type\":\"contour\",\"colorbar\":{\"outlinewidth\":0,\"ticks\":\"\"},\"colorscale\":[[0.0,\"#0d0887\"],[0.1111111111111111,\"#46039f\"],[0.2222222222222222,\"#7201a8\"],[0.3333333333333333,\"#9c179e\"],[0.4444444444444444,\"#bd3786\"],[0.5555555555555556,\"#d8576b\"],[0.6666666666666666,\"#ed7953\"],[0.7777777777777778,\"#fb9f3a\"],[0.8888888888888888,\"#fdca26\"],[1.0,\"#f0f921\"]]}],\"surface\":[{\"type\":\"surface\",\"colorbar\":{\"outlinewidth\":0,\"ticks\":\"\"},\"colorscale\":[[0.0,\"#0d0887\"],[0.1111111111111111,\"#46039f\"],[0.2222222222222222,\"#7201a8\"],[0.3333333333333333,\"#9c179e\"],[0.4444444444444444,\"#bd3786\"],[0.5555555555555556,\"#d8576b\"],[0.6666666666666666,\"#ed7953\"],[0.7777777777777778,\"#fb9f3a\"],[0.8888888888888888,\"#fdca26\"],[1.0,\"#f0f921\"]]}],\"mesh3d\":[{\"type\":\"mesh3d\",\"colorbar\":{\"outlinewidth\":0,\"ticks\":\"\"}}],\"scatter\":[{\"fillpattern\":{\"fillmode\":\"overlay\",\"size\":10,\"solidity\":0.2},\"type\":\"scatter\"}],\"parcoords\":[{\"type\":\"parcoords\",\"line\":{\"colorbar\":{\"outlinewidth\":0,\"ticks\":\"\"}}}],\"scatterpolargl\":[{\"type\":\"scatterpolargl\",\"marker\":{\"colorbar\":{\"outlinewidth\":0,\"ticks\":\"\"}}}],\"bar\":[{\"error_x\":{\"color\":\"#2a3f5f\"},\"error_y\":{\"color\":\"#2a3f5f\"},\"marker\":{\"line\":{\"color\":\"#E5ECF6\",\"width\":0.5},\"pattern\":{\"fillmode\":\"overlay\",\"size\":10,\"solidity\":0.2}},\"type\":\"bar\"}],\"scattergeo\":[{\"type\":\"scattergeo\",\"marker\":{\"colorbar\":{\"outlinewidth\":0,\"ticks\":\"\"}}}],\"scatterpolar\":[{\"type\":\"scatterpolar\",\"marker\":{\"colorbar\":{\"outlinewidth\":0,\"ticks\":\"\"}}}],\"histogram\":[{\"marker\":{\"pattern\":{\"fillmode\":\"overlay\",\"size\":10,\"solidity\":0.2}},\"type\":\"histogram\"}],\"scattergl\":[{\"type\":\"scattergl\",\"marker\":{\"colorbar\":{\"outlinewidth\":0,\"ticks\":\"\"}}}],\"scatter3d\":[{\"type\":\"scatter3d\",\"line\":{\"colorbar\":{\"outlinewidth\":0,\"ticks\":\"\"}},\"marker\":{\"colorbar\":{\"outlinewidth\":0,\"ticks\":\"\"}}}],\"scattermapbox\":[{\"type\":\"scattermapbox\",\"marker\":{\"colorbar\":{\"outlinewidth\":0,\"ticks\":\"\"}}}],\"scatterternary\":[{\"type\":\"scatterternary\",\"marker\":{\"colorbar\":{\"outlinewidth\":0,\"ticks\":\"\"}}}],\"scattercarpet\":[{\"type\":\"scattercarpet\",\"marker\":{\"colorbar\":{\"outlinewidth\":0,\"ticks\":\"\"}}}],\"carpet\":[{\"aaxis\":{\"endlinecolor\":\"#2a3f5f\",\"gridcolor\":\"white\",\"linecolor\":\"white\",\"minorgridcolor\":\"white\",\"startlinecolor\":\"#2a3f5f\"},\"baxis\":{\"endlinecolor\":\"#2a3f5f\",\"gridcolor\":\"white\",\"linecolor\":\"white\",\"minorgridcolor\":\"white\",\"startlinecolor\":\"#2a3f5f\"},\"type\":\"carpet\"}],\"table\":[{\"cells\":{\"fill\":{\"color\":\"#EBF0F8\"},\"line\":{\"color\":\"white\"}},\"header\":{\"fill\":{\"color\":\"#C8D4E3\"},\"line\":{\"color\":\"white\"}},\"type\":\"table\"}],\"barpolar\":[{\"marker\":{\"line\":{\"color\":\"#E5ECF6\",\"width\":0.5},\"pattern\":{\"fillmode\":\"overlay\",\"size\":10,\"solidity\":0.2}},\"type\":\"barpolar\"}],\"pie\":[{\"automargin\":true,\"type\":\"pie\"}]},\"layout\":{\"autotypenumbers\":\"strict\",\"colorway\":[\"#636efa\",\"#EF553B\",\"#00cc96\",\"#ab63fa\",\"#FFA15A\",\"#19d3f3\",\"#FF6692\",\"#B6E880\",\"#FF97FF\",\"#FECB52\"],\"font\":{\"color\":\"#2a3f5f\"},\"hovermode\":\"closest\",\"hoverlabel\":{\"align\":\"left\"},\"paper_bgcolor\":\"white\",\"plot_bgcolor\":\"#E5ECF6\",\"polar\":{\"bgcolor\":\"#E5ECF6\",\"angularaxis\":{\"gridcolor\":\"white\",\"linecolor\":\"white\",\"ticks\":\"\"},\"radialaxis\":{\"gridcolor\":\"white\",\"linecolor\":\"white\",\"ticks\":\"\"}},\"ternary\":{\"bgcolor\":\"#E5ECF6\",\"aaxis\":{\"gridcolor\":\"white\",\"linecolor\":\"white\",\"ticks\":\"\"},\"baxis\":{\"gridcolor\":\"white\",\"linecolor\":\"white\",\"ticks\":\"\"},\"caxis\":{\"gridcolor\":\"white\",\"linecolor\":\"white\",\"ticks\":\"\"}},\"coloraxis\":{\"colorbar\":{\"outlinewidth\":0,\"ticks\":\"\"}},\"colorscale\":{\"sequential\":[[0.0,\"#0d0887\"],[0.1111111111111111,\"#46039f\"],[0.2222222222222222,\"#7201a8\"],[0.3333333333333333,\"#9c179e\"],[0.4444444444444444,\"#bd3786\"],[0.5555555555555556,\"#d8576b\"],[0.6666666666666666,\"#ed7953\"],[0.7777777777777778,\"#fb9f3a\"],[0.8888888888888888,\"#fdca26\"],[1.0,\"#f0f921\"]],\"sequentialminus\":[[0.0,\"#0d0887\"],[0.1111111111111111,\"#46039f\"],[0.2222222222222222,\"#7201a8\"],[0.3333333333333333,\"#9c179e\"],[0.4444444444444444,\"#bd3786\"],[0.5555555555555556,\"#d8576b\"],[0.6666666666666666,\"#ed7953\"],[0.7777777777777778,\"#fb9f3a\"],[0.8888888888888888,\"#fdca26\"],[1.0,\"#f0f921\"]],\"diverging\":[[0,\"#8e0152\"],[0.1,\"#c51b7d\"],[0.2,\"#de77ae\"],[0.3,\"#f1b6da\"],[0.4,\"#fde0ef\"],[0.5,\"#f7f7f7\"],[0.6,\"#e6f5d0\"],[0.7,\"#b8e186\"],[0.8,\"#7fbc41\"],[0.9,\"#4d9221\"],[1,\"#276419\"]]},\"xaxis\":{\"gridcolor\":\"white\",\"linecolor\":\"white\",\"ticks\":\"\",\"title\":{\"standoff\":15},\"zerolinecolor\":\"white\",\"automargin\":true,\"zerolinewidth\":2},\"yaxis\":{\"gridcolor\":\"white\",\"linecolor\":\"white\",\"ticks\":\"\",\"title\":{\"standoff\":15},\"zerolinecolor\":\"white\",\"automargin\":true,\"zerolinewidth\":2},\"scene\":{\"xaxis\":{\"backgroundcolor\":\"#E5ECF6\",\"gridcolor\":\"white\",\"linecolor\":\"white\",\"showbackground\":true,\"ticks\":\"\",\"zerolinecolor\":\"white\",\"gridwidth\":2},\"yaxis\":{\"backgroundcolor\":\"#E5ECF6\",\"gridcolor\":\"white\",\"linecolor\":\"white\",\"showbackground\":true,\"ticks\":\"\",\"zerolinecolor\":\"white\",\"gridwidth\":2},\"zaxis\":{\"backgroundcolor\":\"#E5ECF6\",\"gridcolor\":\"white\",\"linecolor\":\"white\",\"showbackground\":true,\"ticks\":\"\",\"zerolinecolor\":\"white\",\"gridwidth\":2}},\"shapedefaults\":{\"line\":{\"color\":\"#2a3f5f\"}},\"annotationdefaults\":{\"arrowcolor\":\"#2a3f5f\",\"arrowhead\":0,\"arrowwidth\":1},\"geo\":{\"bgcolor\":\"white\",\"landcolor\":\"#E5ECF6\",\"subunitcolor\":\"white\",\"showland\":true,\"showlakes\":true,\"lakecolor\":\"white\"},\"title\":{\"x\":0.05},\"mapbox\":{\"style\":\"light\"}}}},                        {\"responsive\": true}                    ).then(function(){\n",
       "                            \n",
       "var gd = document.getElementById('42a5214c-1e11-43ff-bae9-d0e4eb0f020d');\n",
       "var x = new MutationObserver(function (mutations, observer) {{\n",
       "        var display = window.getComputedStyle(gd).display;\n",
       "        if (!display || display === 'none') {{\n",
       "            console.log([gd, 'removed!']);\n",
       "            Plotly.purge(gd);\n",
       "            observer.disconnect();\n",
       "        }}\n",
       "}});\n",
       "\n",
       "// Listen for the removal of the full notebook cells\n",
       "var notebookContainer = gd.closest('#notebook-container');\n",
       "if (notebookContainer) {{\n",
       "    x.observe(notebookContainer, {childList: true});\n",
       "}}\n",
       "\n",
       "// Listen for the clearing of the current output cell\n",
       "var outputEl = gd.closest('.output');\n",
       "if (outputEl) {{\n",
       "    x.observe(outputEl, {childList: true});\n",
       "}}\n",
       "\n",
       "                        })                };                });            </script>        </div>"
      ]
     },
     "metadata": {},
     "output_type": "display_data"
    }
   ],
   "source": [
    "true_vs_pred = pd.DataFrame({'Истинные': y_test, 'Предсказанные': y_pred.reshape(-1)})\n",
    "\n",
    "import plotly.graph_objects as go\n",
    "import numpy as np\n",
    "\n",
    "random_x = np.linspace(0, len(true_vs_pred['Истинные']))\n",
    "\n",
    "fig = go.Figure()\n",
    "fig.add_trace(go.Scatter(x=random_x, y=true_vs_pred['Истинные'],\n",
    "                    mode='lines',\n",
    "                    name='истинные'))\n",
    "fig.add_trace(go.Scatter(x=random_x, y=true_vs_pred['Предсказанные'],\n",
    "                    mode='lines+markers',\n",
    "                    name='предсказанные'))\n",
    "\n",
    "fig.show()"
   ]
  },
  {
   "cell_type": "code",
   "execution_count": 296,
   "id": "8194d701",
   "metadata": {},
   "outputs": [],
   "source": [
    "import random\n",
    "def generate_data(data,length):\n",
    "    res = pd.DataFrame()\n",
    "    for col in data.columns:\n",
    "        temp = []\n",
    "        temp_data = list(set(list(data[col])))\n",
    "        for i in range(length):\n",
    "            temp.append(random.randint(temp_data[0],temp_data[-1]))\n",
    "        temp = pd.Series(temp)\n",
    "        res[col] = temp\n",
    "\n",
    "    dummy_df = pd.get_dummies(res[\"Mjob\"],prefix=\"Mjob\")\n",
    "    res = pd.concat([res, dummy_df],axis=1)\n",
    "    res = res.drop([\"Mjob\"],axis=1)\n",
    "    dummy_df = pd.get_dummies(res[\"Fjob\"],prefix=\"Fjob\")\n",
    "    res = pd.concat([res, dummy_df],axis=1)\n",
    "    res = res.drop([\"Fjob\"],axis=1)\n",
    "\n",
    "    y_pred = model1.predict(res)\n",
    "    return y_pred\n",
    "            \n",
    "    "
   ]
  },
  {
   "cell_type": "code",
   "execution_count": 297,
   "id": "3d06aeac",
   "metadata": {},
   "outputs": [
    {
     "name": "stdout",
     "output_type": "stream",
     "text": [
      "13/13 [==============================] - 0s 667us/step\n"
     ]
    }
   ],
   "source": [
    "y_test_pred = generate_data(data,400)"
   ]
  },
  {
   "cell_type": "code",
   "execution_count": 298,
   "id": "af7188ac",
   "metadata": {},
   "outputs": [
    {
     "data": {
      "text/plain": [
       "array([[ 90.63965 ],\n",
       "       [ 76.82541 ],\n",
       "       [ 54.248146],\n",
       "       [ 72.079834],\n",
       "       [ 54.10767 ],\n",
       "       [ 56.919125],\n",
       "       [ 57.130146],\n",
       "       [ 71.12384 ],\n",
       "       [ 60.90705 ],\n",
       "       [ 37.541664],\n",
       "       [ 65.7551  ],\n",
       "       [ 45.033447],\n",
       "       [ 72.65676 ],\n",
       "       [ 67.099335],\n",
       "       [ 66.79591 ],\n",
       "       [ 62.543457],\n",
       "       [ 63.80779 ],\n",
       "       [ 82.12781 ],\n",
       "       [ 57.27424 ],\n",
       "       [ 57.796173],\n",
       "       [ 70.2804  ],\n",
       "       [ 74.28616 ],\n",
       "       [ 42.93947 ],\n",
       "       [ 69.93562 ],\n",
       "       [ 53.728233],\n",
       "       [ 54.47259 ],\n",
       "       [ 66.35133 ],\n",
       "       [ 54.159843],\n",
       "       [ 46.163433],\n",
       "       [ 44.516068],\n",
       "       [ 60.578392],\n",
       "       [ 93.541916],\n",
       "       [ 64.97254 ],\n",
       "       [ 74.25765 ],\n",
       "       [ 52.433445],\n",
       "       [ 75.001396],\n",
       "       [ 71.4767  ],\n",
       "       [ 51.86772 ],\n",
       "       [ 88.41614 ],\n",
       "       [ 52.459938],\n",
       "       [ 71.562195],\n",
       "       [ 66.09106 ],\n",
       "       [ 69.218765],\n",
       "       [ 53.84983 ],\n",
       "       [ 61.28681 ],\n",
       "       [ 61.68811 ],\n",
       "       [ 62.90341 ],\n",
       "       [ 51.76738 ],\n",
       "       [ 39.249146],\n",
       "       [ 71.197815],\n",
       "       [ 49.024628],\n",
       "       [ 69.83699 ],\n",
       "       [ 84.19601 ],\n",
       "       [ 61.840782],\n",
       "       [ 54.53662 ],\n",
       "       [ 50.054295],\n",
       "       [ 43.676697],\n",
       "       [ 79.27412 ],\n",
       "       [ 75.13302 ],\n",
       "       [ 46.908283],\n",
       "       [ 69.839554],\n",
       "       [ 48.977077],\n",
       "       [ 54.01439 ],\n",
       "       [ 63.014114],\n",
       "       [ 57.62548 ],\n",
       "       [ 82.45341 ],\n",
       "       [ 83.101944],\n",
       "       [ 87.77673 ],\n",
       "       [ 52.81122 ],\n",
       "       [ 43.12316 ],\n",
       "       [ 52.36369 ],\n",
       "       [ 82.37219 ],\n",
       "       [ 57.421654],\n",
       "       [ 64.571785],\n",
       "       [ 53.305016],\n",
       "       [ 74.47058 ],\n",
       "       [ 52.5704  ],\n",
       "       [ 87.96203 ],\n",
       "       [107.62332 ],\n",
       "       [ 48.551098],\n",
       "       [ 74.83964 ],\n",
       "       [ 74.53958 ],\n",
       "       [ 80.2366  ],\n",
       "       [ 52.232918],\n",
       "       [ 76.44849 ],\n",
       "       [ 67.463844],\n",
       "       [ 74.64541 ],\n",
       "       [ 47.12463 ],\n",
       "       [ 74.58368 ],\n",
       "       [ 72.01474 ],\n",
       "       [ 56.434647],\n",
       "       [ 43.316666],\n",
       "       [ 76.63152 ],\n",
       "       [ 49.1336  ],\n",
       "       [ 41.537514],\n",
       "       [ 69.824394],\n",
       "       [ 45.01194 ],\n",
       "       [ 59.653877],\n",
       "       [ 66.39746 ],\n",
       "       [ 48.86733 ],\n",
       "       [ 54.43113 ],\n",
       "       [ 64.65423 ],\n",
       "       [ 55.269188],\n",
       "       [ 73.71326 ],\n",
       "       [ 51.07395 ],\n",
       "       [ 45.161457],\n",
       "       [ 51.90841 ],\n",
       "       [ 89.310524],\n",
       "       [ 79.68153 ],\n",
       "       [ 71.94556 ],\n",
       "       [ 94.34352 ],\n",
       "       [ 84.354614],\n",
       "       [ 66.22092 ],\n",
       "       [ 50.03259 ],\n",
       "       [ 74.87195 ],\n",
       "       [ 37.613205],\n",
       "       [ 71.497635],\n",
       "       [ 49.605793],\n",
       "       [ 72.43251 ],\n",
       "       [ 55.778328],\n",
       "       [ 87.03966 ],\n",
       "       [ 55.39744 ],\n",
       "       [ 66.89443 ],\n",
       "       [ 35.888844],\n",
       "       [ 48.44867 ],\n",
       "       [ 75.26405 ],\n",
       "       [ 53.835297],\n",
       "       [ 86.49591 ],\n",
       "       [ 41.292423],\n",
       "       [ 63.168556],\n",
       "       [ 51.60559 ],\n",
       "       [ 78.05757 ],\n",
       "       [ 56.380707],\n",
       "       [ 84.333664],\n",
       "       [ 42.881805],\n",
       "       [ 69.00959 ],\n",
       "       [ 60.029648],\n",
       "       [ 75.73621 ],\n",
       "       [ 68.94208 ],\n",
       "       [ 50.023567],\n",
       "       [ 61.49784 ],\n",
       "       [ 65.17212 ],\n",
       "       [ 50.20784 ],\n",
       "       [ 67.956154],\n",
       "       [ 41.628746],\n",
       "       [ 76.88707 ],\n",
       "       [ 53.65731 ],\n",
       "       [ 68.2465  ],\n",
       "       [ 41.373817],\n",
       "       [ 64.5258  ],\n",
       "       [ 66.57631 ],\n",
       "       [ 70.716606],\n",
       "       [ 60.578037],\n",
       "       [ 75.52442 ],\n",
       "       [ 53.994534],\n",
       "       [ 72.56847 ],\n",
       "       [ 67.276794],\n",
       "       [ 64.90281 ],\n",
       "       [ 56.230328],\n",
       "       [ 80.162125],\n",
       "       [104.308205],\n",
       "       [ 93.19966 ],\n",
       "       [ 51.371593],\n",
       "       [ 81.70237 ],\n",
       "       [ 73.99364 ],\n",
       "       [ 77.30139 ],\n",
       "       [ 61.895725],\n",
       "       [ 56.012398],\n",
       "       [ 56.252106],\n",
       "       [ 62.92104 ],\n",
       "       [ 79.41109 ],\n",
       "       [ 72.9901  ],\n",
       "       [ 79.279816],\n",
       "       [ 64.25595 ],\n",
       "       [ 54.57686 ],\n",
       "       [ 57.7266  ],\n",
       "       [ 79.33411 ],\n",
       "       [ 87.89714 ],\n",
       "       [ 55.219124],\n",
       "       [ 61.617756],\n",
       "       [ 77.425255],\n",
       "       [ 50.721474],\n",
       "       [ 82.36095 ],\n",
       "       [ 56.35079 ],\n",
       "       [ 59.74839 ],\n",
       "       [ 66.28904 ],\n",
       "       [ 67.85433 ],\n",
       "       [ 82.374954],\n",
       "       [ 51.575947],\n",
       "       [ 42.917686],\n",
       "       [ 41.04376 ],\n",
       "       [ 70.97621 ],\n",
       "       [ 61.348846],\n",
       "       [ 52.500168],\n",
       "       [ 84.525345],\n",
       "       [ 82.1382  ],\n",
       "       [ 46.051132],\n",
       "       [ 46.74196 ],\n",
       "       [ 76.49954 ],\n",
       "       [ 65.660034],\n",
       "       [ 48.223385],\n",
       "       [ 78.45123 ],\n",
       "       [ 41.80594 ],\n",
       "       [ 66.52646 ],\n",
       "       [ 60.500267],\n",
       "       [ 60.992393],\n",
       "       [ 61.51335 ],\n",
       "       [ 62.71279 ],\n",
       "       [ 58.997707],\n",
       "       [ 60.401463],\n",
       "       [ 45.93569 ],\n",
       "       [ 91.0299  ],\n",
       "       [112.99989 ],\n",
       "       [ 72.50244 ],\n",
       "       [ 52.596756],\n",
       "       [ 47.015873],\n",
       "       [ 69.94022 ],\n",
       "       [ 69.36211 ],\n",
       "       [ 50.700294],\n",
       "       [ 79.186905],\n",
       "       [ 51.316612],\n",
       "       [ 66.416374],\n",
       "       [ 64.83573 ],\n",
       "       [ 38.508316],\n",
       "       [ 53.370636],\n",
       "       [ 69.86487 ],\n",
       "       [ 59.152344],\n",
       "       [ 71.737656],\n",
       "       [ 66.76582 ],\n",
       "       [ 55.751545],\n",
       "       [ 81.69549 ],\n",
       "       [ 55.56924 ],\n",
       "       [ 59.57695 ],\n",
       "       [ 98.17471 ],\n",
       "       [100.35667 ],\n",
       "       [ 54.101383],\n",
       "       [ 46.067978],\n",
       "       [ 61.297928],\n",
       "       [ 68.9927  ],\n",
       "       [ 62.61228 ],\n",
       "       [ 60.391735],\n",
       "       [ 68.3555  ],\n",
       "       [ 64.69505 ],\n",
       "       [ 57.61962 ],\n",
       "       [ 74.378624],\n",
       "       [ 66.35197 ],\n",
       "       [ 59.644997],\n",
       "       [ 64.35955 ],\n",
       "       [ 52.65555 ],\n",
       "       [ 63.192677],\n",
       "       [ 47.330574],\n",
       "       [ 65.71578 ],\n",
       "       [ 42.443466],\n",
       "       [ 57.04826 ],\n",
       "       [ 48.951115],\n",
       "       [ 61.391197],\n",
       "       [ 76.99016 ],\n",
       "       [ 62.010403],\n",
       "       [ 86.951126],\n",
       "       [ 42.24623 ],\n",
       "       [ 57.098232],\n",
       "       [ 86.09827 ],\n",
       "       [ 50.38604 ],\n",
       "       [ 84.20067 ],\n",
       "       [ 68.35876 ],\n",
       "       [ 70.2632  ],\n",
       "       [ 88.630875],\n",
       "       [ 88.69293 ],\n",
       "       [ 54.66082 ],\n",
       "       [ 91.178825],\n",
       "       [ 52.62233 ],\n",
       "       [ 91.25899 ],\n",
       "       [ 47.613876],\n",
       "       [ 64.51506 ],\n",
       "       [ 44.00196 ],\n",
       "       [ 65.810715],\n",
       "       [ 63.136074],\n",
       "       [ 58.83526 ],\n",
       "       [ 58.144104],\n",
       "       [ 77.47974 ],\n",
       "       [ 56.587543],\n",
       "       [ 92.89887 ],\n",
       "       [ 78.300934],\n",
       "       [ 62.88814 ],\n",
       "       [ 57.96125 ],\n",
       "       [ 86.55087 ],\n",
       "       [ 58.12454 ],\n",
       "       [ 56.902264],\n",
       "       [ 59.50119 ],\n",
       "       [ 76.202515],\n",
       "       [ 49.97296 ],\n",
       "       [ 58.03308 ],\n",
       "       [ 62.436317],\n",
       "       [ 55.85606 ],\n",
       "       [ 43.590603],\n",
       "       [ 60.123787],\n",
       "       [ 58.83334 ],\n",
       "       [ 54.433678],\n",
       "       [ 38.669838],\n",
       "       [ 47.957466],\n",
       "       [ 44.70063 ],\n",
       "       [ 53.555584],\n",
       "       [ 41.417282],\n",
       "       [ 67.29808 ],\n",
       "       [ 58.811474],\n",
       "       [ 50.154503],\n",
       "       [ 60.959396],\n",
       "       [ 47.67397 ],\n",
       "       [ 94.2035  ],\n",
       "       [ 80.84238 ],\n",
       "       [ 59.694653],\n",
       "       [ 80.993164],\n",
       "       [ 59.79566 ],\n",
       "       [ 53.81881 ],\n",
       "       [ 55.89187 ],\n",
       "       [ 41.262287],\n",
       "       [ 47.089363],\n",
       "       [ 64.587204],\n",
       "       [ 55.319748],\n",
       "       [ 55.057156],\n",
       "       [ 83.63728 ],\n",
       "       [ 36.771877],\n",
       "       [ 78.55387 ],\n",
       "       [ 61.998684],\n",
       "       [ 59.21303 ],\n",
       "       [ 52.484184],\n",
       "       [ 57.511627],\n",
       "       [ 80.59615 ],\n",
       "       [ 52.49975 ],\n",
       "       [ 72.02368 ],\n",
       "       [ 76.2318  ],\n",
       "       [ 76.97288 ],\n",
       "       [ 59.947716],\n",
       "       [ 50.379704],\n",
       "       [ 54.28627 ],\n",
       "       [ 56.523117],\n",
       "       [ 75.05249 ],\n",
       "       [ 53.104507],\n",
       "       [ 62.12835 ],\n",
       "       [ 85.74455 ],\n",
       "       [ 62.072544],\n",
       "       [ 67.488785],\n",
       "       [ 83.29106 ],\n",
       "       [ 68.77955 ],\n",
       "       [ 46.73802 ],\n",
       "       [111.39558 ],\n",
       "       [ 46.586845],\n",
       "       [ 64.649025],\n",
       "       [ 70.91743 ],\n",
       "       [ 59.544502],\n",
       "       [ 41.812572],\n",
       "       [ 53.606644],\n",
       "       [ 74.8188  ],\n",
       "       [ 62.176228],\n",
       "       [ 85.55184 ],\n",
       "       [ 59.937794],\n",
       "       [ 51.42354 ],\n",
       "       [ 45.374   ],\n",
       "       [ 51.90644 ],\n",
       "       [ 60.631042],\n",
       "       [ 50.162514],\n",
       "       [ 58.063606],\n",
       "       [ 78.755066],\n",
       "       [ 69.6761  ],\n",
       "       [ 66.156075],\n",
       "       [ 77.3503  ],\n",
       "       [ 87.26287 ],\n",
       "       [ 92.28311 ],\n",
       "       [ 56.691982],\n",
       "       [ 69.89114 ],\n",
       "       [ 85.4906  ],\n",
       "       [ 55.298016],\n",
       "       [ 55.44025 ],\n",
       "       [ 63.832077],\n",
       "       [ 47.014313],\n",
       "       [ 46.786503],\n",
       "       [ 58.868736],\n",
       "       [ 91.684906],\n",
       "       [ 70.45962 ],\n",
       "       [ 89.48094 ],\n",
       "       [ 61.564075],\n",
       "       [ 54.568047],\n",
       "       [ 53.264774],\n",
       "       [ 80.267456],\n",
       "       [ 46.07712 ],\n",
       "       [ 61.58074 ],\n",
       "       [ 66.86418 ],\n",
       "       [ 67.633316],\n",
       "       [ 78.78345 ],\n",
       "       [102.0972  ],\n",
       "       [ 77.160446],\n",
       "       [ 39.469982],\n",
       "       [ 61.04503 ],\n",
       "       [ 51.853607],\n",
       "       [ 62.16354 ],\n",
       "       [ 68.24704 ],\n",
       "       [ 49.44467 ],\n",
       "       [ 50.946484],\n",
       "       [ 69.01323 ],\n",
       "       [ 71.929726]], dtype=float32)"
      ]
     },
     "execution_count": 298,
     "metadata": {},
     "output_type": "execute_result"
    }
   ],
   "source": [
    "y_test_pred"
   ]
  }
 ],
 "metadata": {
  "kernelspec": {
   "display_name": "Python 3 (ipykernel)",
   "language": "python",
   "name": "python3"
  },
  "language_info": {
   "codemirror_mode": {
    "name": "ipython",
    "version": 3
   },
   "file_extension": ".py",
   "mimetype": "text/x-python",
   "name": "python",
   "nbconvert_exporter": "python",
   "pygments_lexer": "ipython3",
   "version": "3.10.9"
  }
 },
 "nbformat": 4,
 "nbformat_minor": 5
}
